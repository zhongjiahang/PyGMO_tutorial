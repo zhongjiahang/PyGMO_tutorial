{
 "cells": [
  {
   "cell_type": "code",
   "execution_count": null,
   "metadata": {
    "ExecuteTime": {
     "end_time": "2018-09-12T15:00:24.424293Z",
     "start_time": "2018-09-12T15:00:18.435126Z"
    }
   },
   "outputs": [],
   "source": [
    "import numpy as np\n",
    "import pandas as pd\n",
    "import pygmo as pg\n",
    "import sys\n",
    "import os\n",
    "import matplotlib.pyplot as plt\n",
    "import seaborn as sns\n",
    "\n",
    "pd.set_option('display.max_rows', 500)\n",
    "\n",
    "os.environ['KERAS_BACKEND'] = 'tensorflow'\n",
    "from keras.models import load_model\n",
    "from sklearn.externals import joblib \n",
    "from config import MAX_DISCOUNT, FEATURES\n",
    "\n",
    "%matplotlib inline\n",
    "%load_ext line_profiler"
   ]
  },
  {
   "cell_type": "code",
   "execution_count": null,
   "metadata": {
    "ExecuteTime": {
     "end_time": "2018-09-12T15:00:24.761206Z",
     "start_time": "2018-09-12T15:00:24.426293Z"
    }
   },
   "outputs": [],
   "source": [
    "df=pd.read_csv('training_data_randn.csv', nrows=50000)\n",
    "cols_x = FEATURES\n",
    "col_y = 'is_deal'\n",
    "col_p = 'Probability'\n",
    "print(df.shape)"
   ]
  },
  {
   "cell_type": "code",
   "execution_count": null,
   "metadata": {
    "ExecuteTime": {
     "end_time": "2018-09-12T15:00:24.770231Z",
     "start_time": "2018-09-12T15:00:24.764215Z"
    }
   },
   "outputs": [],
   "source": [
    "class propensity_predictor:\n",
    "    def __init__(self, f_scalar_pickle, f_model_h5):\n",
    "        self.f_scalar_pickle = f_scalar_pickle\n",
    "        self.f_model_h5 = f_model_h5\n",
    "        \n",
    "    def predict(self, X):\n",
    "        if not hasattr(self, 'model'):\n",
    "            self.scalar = joblib.load(self.f_scalar_pickle)\n",
    "            self.model = load_model(self.f_model_h5)            \n",
    "        X_s = self.scalar.transform(X)\n",
    "        y = self.model.predict(X_s)[:, 0]\n",
    "        return y\n",
    "    \n",
    "    def __copy__(self):\n",
    "        newone = type(self)(self.f_scalar_pickle, self.f_model_h5)\n",
    "        return newone\n",
    "    \n",
    "    def __deepcopy__(self, memo):\n",
    "        newone = type(self)(self.f_scalar_pickle, self.f_model_h5)\n",
    "        return newone\n",
    "    \n",
    "m = propensity_predictor('x_scalar_randn.pkl', 'propensity_model_randn.h5')"
   ]
  },
  {
   "cell_type": "code",
   "execution_count": null,
   "metadata": {
    "ExecuteTime": {
     "end_time": "2018-09-12T15:00:29.822035Z",
     "start_time": "2018-09-12T15:00:26.255451Z"
    }
   },
   "outputs": [],
   "source": [
    "%%timeit\n",
    "m.predict(df[cols_x])"
   ]
  },
  {
   "cell_type": "code",
   "execution_count": null,
   "metadata": {
    "ExecuteTime": {
     "end_time": "2018-09-12T14:11:12.691820Z",
     "start_time": "2018-09-12T14:11:12.637676Z"
    },
    "scrolled": true
   },
   "outputs": [],
   "source": [
    "df.loc[:, 'pred'] = m.predict(df[cols_x])"
   ]
  },
  {
   "cell_type": "markdown",
   "metadata": {},
   "source": [
    "# Background\n",
    "\n",
    "Linear programming vs non-linear programming\n",
    "\n",
    "Optimization algorithms: local vs heuristic"
   ]
  },
  {
   "cell_type": "markdown",
   "metadata": {},
   "source": [
    "# User Defined Problem (UDP)"
   ]
  },
  {
   "cell_type": "markdown",
   "metadata": {},
   "source": [
    "## Objectives"
   ]
  },
  {
   "cell_type": "code",
   "execution_count": null,
   "metadata": {
    "ExecuteTime": {
     "end_time": "2018-09-12T14:11:19.943067Z",
     "start_time": "2018-09-12T14:11:12.922135Z"
    }
   },
   "outputs": [],
   "source": [
    "v_space = 0.01\n",
    "f_discounts = np.arange(0, MAX_DISCOUNT + v_space, v_space)\n",
    "\n",
    "cols_grpby = ['product_id']\n",
    "\n",
    "scan_propensity = []\n",
    "scan_revenue = []\n",
    "scan_profit = []\n",
    "\n",
    "for f in f_discounts:\n",
    "    X = df[cols_x].values\n",
    "    X[:, -1] = df['RRP']*f \n",
    "    col_discount = 'Discount_{:.02f}'.format(f)\n",
    "    col_pred = 'y_pred_{:.02f}'.format(f)\n",
    "    df.loc[:, col_discount] = X[:, -1]\n",
    "    df.loc[:, col_pred] = m.predict(X)\n",
    "    \n",
    "    # Prospensity\n",
    "    s_prop = df.groupby(cols_grpby).apply(lambda df: np.mean(df[col_pred])).rename(f)\n",
    "    s_reve = df.groupby(cols_grpby).apply(lambda df: np.dot(df['RRP'] - df[col_discount], df[col_pred])).rename(f)\n",
    "    s_prof = df.groupby(cols_grpby).apply(lambda df: np.dot(df['RRP'] - df[col_discount] - df['Cost'], df[col_pred])).rename(f)\n",
    "\n",
    "    scan_propensity.append(s_prop)\n",
    "    scan_revenue.append(s_reve)\n",
    "    scan_profit.append(s_prof)"
   ]
  },
  {
   "cell_type": "code",
   "execution_count": null,
   "metadata": {
    "ExecuteTime": {
     "end_time": "2018-09-12T14:11:21.121179Z",
     "start_time": "2018-09-12T14:11:19.945072Z"
    }
   },
   "outputs": [],
   "source": [
    "f, ax = plt.subplots(3, 1, figsize=(16,18))\n",
    "pd.concat(scan_propensity, axis=1).T.plot(ax = ax[0],  title='Propensity', grid=True)\n",
    "pd.concat(scan_revenue, axis=1).T.plot(ax = ax[1],  title='Revenue', grid=True)\n",
    "pd.concat(scan_profit, axis=1).T.plot(ax = ax[2],  title='Profit', grid=True)"
   ]
  },
  {
   "cell_type": "markdown",
   "metadata": {},
   "source": [
    "## Single-objective optimization\n",
    "\n",
    "Find out the discount amount for each product in order to maximize revenue"
   ]
  },
  {
   "cell_type": "code",
   "execution_count": null,
   "metadata": {
    "ExecuteTime": {
     "end_time": "2018-09-12T14:11:43.153030Z",
     "start_time": "2018-09-12T14:11:43.146011Z"
    }
   },
   "outputs": [],
   "source": [
    "class optimal_discount_per_product_for_max_profit:\n",
    "    def __init__(self, df, model): \n",
    "        self.cols_x = FEATURES\n",
    "        self.df = df     \n",
    "        self.p_ids = df['product_id'].unique()\n",
    "        self.p_ids.sort()\n",
    "        self.n_products = len(self.p_ids)\n",
    "        self.model = model\n",
    "        \n",
    "    def fitness(self, dv): # fitness given decision vector (dv)\n",
    "        prod_discount = dict(zip(self.p_ids, dv))\n",
    "        v_dis = self.df['product_id'].map(prod_discount) * self.df['RRP']\n",
    "        X = self.df[self.cols_x].values\n",
    "        X[:, -1] = v_dis\n",
    "        y_prob = self.model.predict(X)\n",
    "        profit = np.dot(self.df['RRP'] - v_dis - self.df['Cost'], y_prob)  \n",
    "        return [-profit/1e6,]   \n",
    "\n",
    "    def get_bounds(self): # box bounds of decision vector (dv)\n",
    "        return ([0,]*self.n_products, [MAX_DISCOUNT, ]*self.n_products)"
   ]
  },
  {
   "cell_type": "markdown",
   "metadata": {},
   "source": [
    "Notes:\n",
    "* PyGMO2 assume minimization in every objective\n",
    "* Default assume single-objective, all continuous decision vectors\n",
    "* Return of fitness() must be a list, even for single-objective problems"
   ]
  },
  {
   "cell_type": "code",
   "execution_count": null,
   "metadata": {
    "ExecuteTime": {
     "end_time": "2018-09-12T14:11:43.756792Z",
     "start_time": "2018-09-12T14:11:43.752783Z"
    }
   },
   "outputs": [],
   "source": [
    "pp_profit = optimal_discount_per_product_for_max_profit(df, m)"
   ]
  },
  {
   "cell_type": "code",
   "execution_count": null,
   "metadata": {
    "ExecuteTime": {
     "end_time": "2018-09-12T14:11:44.449933Z",
     "start_time": "2018-09-12T14:11:44.079960Z"
    }
   },
   "outputs": [],
   "source": [
    "prob = pg.problem(pp_profit)\n",
    "algo = pg.algorithm(pg.de(gen = 50))\n",
    "pop = pg.population(prob,10)\n",
    "algo.set_verbosity(2)"
   ]
  },
  {
   "cell_type": "code",
   "execution_count": null,
   "metadata": {
    "ExecuteTime": {
     "end_time": "2018-09-12T14:12:00.638749Z",
     "start_time": "2018-09-12T14:11:44.452941Z"
    }
   },
   "outputs": [],
   "source": [
    "pop = algo.evolve(pop)"
   ]
  },
  {
   "cell_type": "code",
   "execution_count": null,
   "metadata": {
    "ExecuteTime": {
     "end_time": "2018-09-12T14:12:00.650778Z",
     "start_time": "2018-09-12T14:12:00.644762Z"
    }
   },
   "outputs": [],
   "source": [
    "best_x_rev = pop.champion_x\n",
    "best_f_rev = pop.champion_f\n",
    "print(best_x_rev, best_f_rev) "
   ]
  },
  {
   "cell_type": "code",
   "execution_count": null,
   "metadata": {
    "ExecuteTime": {
     "end_time": "2018-09-12T14:12:00.672837Z",
     "start_time": "2018-09-12T14:12:00.653788Z"
    }
   },
   "outputs": [],
   "source": [
    "log = algo.extract(pg.de).get_log()"
   ]
  },
  {
   "cell_type": "code",
   "execution_count": null,
   "metadata": {
    "ExecuteTime": {
     "end_time": "2018-09-12T14:12:00.694894Z",
     "start_time": "2018-09-12T14:12:00.676846Z"
    }
   },
   "outputs": [],
   "source": [
    "log"
   ]
  },
  {
   "cell_type": "markdown",
   "metadata": {},
   "source": [
    "## Multi-objective optimization"
   ]
  },
  {
   "cell_type": "code",
   "execution_count": null,
   "metadata": {
    "ExecuteTime": {
     "end_time": "2018-09-12T14:12:39.313415Z",
     "start_time": "2018-09-12T14:12:39.304396Z"
    }
   },
   "outputs": [],
   "source": [
    "class optimal_discount_per_product_for_max_revenue_min_cost:\n",
    "    def __init__(self, df, model): \n",
    "        self.cols_x = FEATURES\n",
    "        self.df = df\n",
    "        self.p_ids = df['product_id'].unique()\n",
    "        self.p_ids.sort()\n",
    "        self.n_products = len(self.p_ids)\n",
    "        self.model = model        \n",
    "   \n",
    "    def get_nobj(self):\n",
    "        return 2\n",
    "    \n",
    "    def fitness(self, dv): # fitness given decision vector (dv)\n",
    "        prod_discount = dict(zip(self.p_ids, dv))\n",
    "        v_dis = self.df['product_id'].map(prod_discount) * self.df['RRP']\n",
    "        X = self.df[self.cols_x].values\n",
    "        X[:, -1] = v_dis\n",
    "        y_prob = self.model.predict(X)\n",
    "        revenue = np.dot(self.df['RRP'] - v_dis, y_prob)  \n",
    "        cost = np.dot(self.df['Cost'], y_prob)  \n",
    "        return [-revenue/1e6,cost/1e6]   # Minimization objectives\n",
    "    \n",
    "    def get_bounds(self): # box bounds of decision vector (dv)       \n",
    "        return ([0,]*self.n_products, [MAX_DISCOUNT, ]*self.n_products)"
   ]
  },
  {
   "cell_type": "code",
   "execution_count": null,
   "metadata": {
    "ExecuteTime": {
     "end_time": "2018-09-12T14:12:39.979137Z",
     "start_time": "2018-09-12T14:12:39.975127Z"
    }
   },
   "outputs": [],
   "source": [
    "pp_rev_cost = optimal_discount_per_product_for_max_revenue_min_cost(df, m)"
   ]
  },
  {
   "cell_type": "code",
   "execution_count": null,
   "metadata": {
    "ExecuteTime": {
     "end_time": "2018-09-12T14:54:07.864132Z",
     "start_time": "2018-09-12T14:54:05.864736Z"
    }
   },
   "outputs": [],
   "source": [
    "prob = pg.problem(pp_rev_cost)\n",
    "pop = pg.population(prob,64)"
   ]
  },
  {
   "cell_type": "code",
   "execution_count": null,
   "metadata": {
    "ExecuteTime": {
     "end_time": "2018-09-12T14:54:08.315041Z",
     "start_time": "2018-09-12T14:54:08.312025Z"
    }
   },
   "outputs": [],
   "source": [
    "algo = pg.algorithm(pg.nsga2(gen = 1))\n",
    "# algo.set_verbosity(1)"
   ]
  },
  {
   "cell_type": "code",
   "execution_count": null,
   "metadata": {
    "ExecuteTime": {
     "end_time": "2018-09-12T14:58:39.745042Z",
     "start_time": "2018-09-12T14:54:19.088972Z"
    },
    "scrolled": true
   },
   "outputs": [],
   "source": [
    "refpoint = [ -30, 30]\n",
    "log_pop = []\n",
    "hv = pg.hypervolume(pop).compute(refpoint)\n",
    "log_pop.append((pop.get_x(), pop.get_f(), hv))\n",
    "print(hv)\n",
    "for i in range(129):\n",
    "    pop = algo.evolve(pop)\n",
    "    hv = pg.hypervolume(pop).compute(refpoint)\n",
    "    log_pop.append((pop.get_x(), pop.get_f(), hv))\n",
    "    if np.log2(i+1).is_integer():\n",
    "        print(i, hv)\n"
   ]
  },
  {
   "cell_type": "code",
   "execution_count": null,
   "metadata": {
    "ExecuteTime": {
     "end_time": "2018-09-12T14:58:39.752062Z",
     "start_time": "2018-09-12T14:58:39.747048Z"
    }
   },
   "outputs": [],
   "source": [
    "fits, vectors = -pop.get_f(), pop.get_x()\n",
    "ndf, dl, dc, ndr = pg.fast_non_dominated_sorting(fits)"
   ]
  },
  {
   "cell_type": "code",
   "execution_count": null,
   "metadata": {
    "ExecuteTime": {
     "end_time": "2018-09-12T14:58:39.767102Z",
     "start_time": "2018-09-12T14:58:39.755070Z"
    }
   },
   "outputs": [],
   "source": [
    "idx_sorted = fits.argsort(0)[:, 0]"
   ]
  },
  {
   "cell_type": "code",
   "execution_count": null,
   "metadata": {
    "ExecuteTime": {
     "end_time": "2018-09-12T14:58:39.805205Z",
     "start_time": "2018-09-12T14:58:39.770111Z"
    }
   },
   "outputs": [],
   "source": [
    "for id in idx_sorted:\n",
    "    print(fits[id], vectors[id].round(3))"
   ]
  },
  {
   "cell_type": "code",
   "execution_count": null,
   "metadata": {
    "ExecuteTime": {
     "end_time": "2018-09-12T14:50:41.790633Z",
     "start_time": "2018-09-12T14:50:41.778603Z"
    }
   },
   "outputs": [],
   "source": [
    "help(df.plot)"
   ]
  },
  {
   "cell_type": "code",
   "execution_count": null,
   "metadata": {
    "ExecuteTime": {
     "end_time": "2018-09-12T14:58:40.741753Z",
     "start_time": "2018-09-12T14:58:39.809218Z"
    }
   },
   "outputs": [],
   "source": [
    "def plot_pareto_frontiers(fs, **kwarg):\n",
    "    df = pd.DataFrame(fs, columns = ('Revenue', 'Cost')).sort_values('Revenue')   \n",
    "    df.loc[:, 'pareto_group'] = pg.fast_non_dominated_sorting(df.values)[3]\n",
    "    df['Revenue'] = -df['Revenue']\n",
    "    df.groupby('pareto_group').plot('Revenue', 'Cost', style='o-', legend=False, **kwarg, ax=plt.gca())\n",
    "    plt.gca().set_ylabel('Cost')\n",
    "    return\n",
    "   \n",
    "x_max = np.array([pop[1] for pop in log_pop])[:,:, 0].max()+1\n",
    "x_min = np.array([pop[1] for pop in log_pop])[:,:, 0].min()-1\n",
    "y_max = np.array([pop[1] for pop in log_pop])[:,:, 1].max()+1\n",
    "y_min = np.array([pop[1] for pop in log_pop])[:,:, 1].min()-1\n",
    "axis_range = ((x_min, x_max), (y_min, y_max))\n",
    "for i, (dvs, fs, hv) in enumerate(log_pop):\n",
    "    if np.log2(i+1).is_integer():\n",
    "        plt.cla()\n",
    "        ax = plot_pareto_frontiers(fs, xlim=(-x_max, -x_min), ylim=(y_min, y_max), figsize=(8,6), title='Evolution %d'%(i+1)) \n",
    "        plt.savefig('test_%d.png'%(np.log2(i+1)))\n"
   ]
  },
  {
   "cell_type": "markdown",
   "metadata": {},
   "source": [
    "## Hypervolume\n",
    "\n",
    "* Reference point\n",
    "* For dimensionality>1 only\n",
    "\n",
    "\n",
    "## Decorator meta-problem\n",
    "https://esa.github.io/pagmo2/docs/python/tutorials/udp_meta_decorator.html\n"
   ]
  },
  {
   "cell_type": "code",
   "execution_count": null,
   "metadata": {
    "ExecuteTime": {
     "end_time": "2018-09-11T13:49:28.595425Z",
     "start_time": "2018-09-11T13:49:28.488142Z"
    }
   },
   "outputs": [],
   "source": [
    "??m.model._make_predict_function"
   ]
  },
  {
   "cell_type": "markdown",
   "metadata": {},
   "source": [
    "## Parallelization\n",
    "\n",
    "Island\n",
    "\n",
    "Run evolutions on \n",
    "* multi-threading\n",
    "* multi-processing\n",
    "* cluster\n",
    "\n",
    "Archipelago\n",
    "\n",
    "\n",
    "Keras: \n",
    "model._make_predict_function \n",
    "https://stackoverflow.com/questions/40850089/is-keras-thread-safe"
   ]
  },
  {
   "cell_type": "code",
   "execution_count": null,
   "metadata": {},
   "outputs": [],
   "source": [
    "algo = pg.algorithm(pg.nsga2(gen = 1))\n",
    "prob = pg.problem(pp_rev_cost)\n",
    "pop = pg.population(prob,16)"
   ]
  },
  {
   "cell_type": "code",
   "execution_count": null,
   "metadata": {},
   "outputs": [],
   "source": [
    "isl_0 = pg.island(algo = pg.de(10), prob = pg.ackley(5), size=20, udi=pg.thread_island())"
   ]
  },
  {
   "cell_type": "markdown",
   "metadata": {},
   "source": [
    "## Optimization with constraint"
   ]
  },
  {
   "cell_type": "markdown",
   "metadata": {},
   "source": [
    "## Integer problem"
   ]
  },
  {
   "cell_type": "markdown",
   "metadata": {},
   "source": [
    "## Optimization with gradient/hessian"
   ]
  },
  {
   "cell_type": "markdown",
   "metadata": {},
   "source": [
    "## Logging during training\n",
    "\n",
    "log = algo.extract(pg.nlopt).get_log()\n",
    "from matplotlib import pyplot as plt \n",
    "plt.semilogy([line[0] for line in log], [line[1] for line in log], label = \"obj\") \n",
    "plt.semilogy([line[0] for line in log], [line[3] for line in log], label = \"con\")\n"
   ]
  },
  {
   "cell_type": "code",
   "execution_count": null,
   "metadata": {},
   "outputs": [],
   "source": []
  }
 ],
 "metadata": {
  "kernelspec": {
   "display_name": "Python 3",
   "language": "python",
   "name": "python3"
  },
  "language_info": {
   "codemirror_mode": {
    "name": "ipython",
    "version": 3
   },
   "file_extension": ".py",
   "mimetype": "text/x-python",
   "name": "python",
   "nbconvert_exporter": "python",
   "pygments_lexer": "ipython3",
   "version": "3.6.5"
  },
  "toc": {
   "base_numbering": 1,
   "nav_menu": {},
   "number_sections": true,
   "sideBar": true,
   "skip_h1_title": false,
   "title_cell": "Table of Contents",
   "title_sidebar": "Contents",
   "toc_cell": false,
   "toc_position": {},
   "toc_section_display": true,
   "toc_window_display": true
  }
 },
 "nbformat": 4,
 "nbformat_minor": 2
}
