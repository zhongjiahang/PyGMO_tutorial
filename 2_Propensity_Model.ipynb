{
 "cells": [
  {
   "cell_type": "code",
   "execution_count": 1,
   "metadata": {
    "ExecuteTime": {
     "end_time": "2018-09-12T14:06:35.694792Z",
     "start_time": "2018-09-12T14:06:34.010712Z"
    }
   },
   "outputs": [],
   "source": [
    "import numpy as np\n",
    "import pandas as pd\n",
    "import pygmo\n",
    "import os\n",
    "import sys\n",
    "import matplotlib.pyplot as plt\n",
    "import seaborn as sns\n",
    "\n",
    "pd.set_option('display.max_rows', 500)\n",
    " \n",
    "from sklearn.preprocessing import StandardScaler\n",
    "from sklearn.neural_network import MLPClassifier\n",
    "from sklearn.pipeline import Pipeline\n",
    "from sklearn.externals import joblib \n",
    "from sklearn.metrics import roc_auc_score, mean_squared_error, mean_absolute_error, r2_score\n",
    "\n",
    "from config import MAX_DISCOUNT, FEATURES\n",
    "\n",
    "%matplotlib inline"
   ]
  },
  {
   "cell_type": "code",
   "execution_count": 2,
   "metadata": {
    "ExecuteTime": {
     "end_time": "2018-09-12T14:06:40.934382Z",
     "start_time": "2018-09-12T14:06:35.697767Z"
    }
   },
   "outputs": [
    {
     "name": "stdout",
     "output_type": "stream",
     "text": [
      "(1000000, 22)\n"
     ]
    }
   ],
   "source": [
    "df=pd.read_csv('training_data_randn.csv')\n",
    "cols_x = FEATURES\n",
    "col_y = 'is_deal'\n",
    "col_p = 'Probability'\n",
    "print(df.shape)"
   ]
  },
  {
   "cell_type": "code",
   "execution_count": 3,
   "metadata": {
    "ExecuteTime": {
     "end_time": "2018-09-12T14:06:40.993506Z",
     "start_time": "2018-09-12T14:06:40.937366Z"
    }
   },
   "outputs": [],
   "source": [
    "n_train = int(0.8*len(df))\n",
    "x = df[cols_x]\n",
    "x_train = x[:n_train]\n",
    "x_test  = x[n_train:]\n",
    "y_train = df[col_y][:n_train]\n",
    "y_test = df[col_y][n_train:]\n",
    "p_train = df[col_p][:n_train]\n",
    "p_test = df[col_p][n_train:]"
   ]
  },
  {
   "cell_type": "code",
   "execution_count": 4,
   "metadata": {
    "ExecuteTime": {
     "end_time": "2018-09-12T14:07:06.895122Z",
     "start_time": "2018-09-12T14:06:40.999537Z"
    }
   },
   "outputs": [
    {
     "name": "stderr",
     "output_type": "stream",
     "text": [
      "C:\\Users\\jiahang.zhong\\AppData\\Local\\Continuum\\anaconda3\\lib\\site-packages\\sklearn\\neural_network\\multilayer_perceptron.py:564: ConvergenceWarning: Stochastic Optimizer: Maximum iterations (10) reached and the optimization hasn't converged yet.\n",
      "  % self.max_iter, ConvergenceWarning)\n"
     ]
    },
    {
     "data": {
      "text/plain": [
       "Pipeline(memory=None,\n",
       "     steps=[('scalar', StandardScaler(copy=True, with_mean=True, with_std=True)), ('mlp', MLPClassifier(activation='tanh', alpha=1e-05, batch_size=128, beta_1=0.9,\n",
       "       beta_2=0.999, early_stopping=False, epsilon=1e-08,\n",
       "       hidden_layer_sizes=(12, 4), learning_rate='constant',\n",
       "       learning_rate_i...       solver='adam', tol=0.0001, validation_fraction=0.2, verbose=False,\n",
       "       warm_start=False))])"
      ]
     },
     "execution_count": 4,
     "metadata": {},
     "output_type": "execute_result"
    }
   ],
   "source": [
    "scaler = StandardScaler()\n",
    "mlp = MLPClassifier(hidden_layer_sizes=(12, 4), \n",
    "                    activation='tanh', \n",
    "                    alpha=1e-5,  # L2 reg\n",
    "                    max_iter=10, \n",
    "                    batch_size=128, \n",
    "                    random_state=1, \n",
    "                    validation_fraction=0.2)\n",
    "model = Pipeline([('scalar', scaler), ('mlp', mlp)])\n",
    "model.fit(x_train, y_train)\n"
   ]
  },
  {
   "cell_type": "code",
   "execution_count": 5,
   "metadata": {
    "ExecuteTime": {
     "end_time": "2018-09-12T14:07:07.402378Z",
     "start_time": "2018-09-12T14:07:06.898131Z"
    }
   },
   "outputs": [],
   "source": [
    "y_pred_train = model.predict_proba(x_train)[:, 1]\n",
    "y_pred_test = model.predict_proba(x_test)[:, 1]"
   ]
  },
  {
   "cell_type": "code",
   "execution_count": 6,
   "metadata": {
    "ExecuteTime": {
     "end_time": "2018-09-12T14:07:07.826430Z",
     "start_time": "2018-09-12T14:07:07.404384Z"
    }
   },
   "outputs": [
    {
     "data": {
      "text/plain": [
       "(0.753230369515837, 0.7548146375066427)"
      ]
     },
     "execution_count": 6,
     "metadata": {},
     "output_type": "execute_result"
    }
   ],
   "source": [
    "# rand x_i: 0.764\n",
    "# randn x_i: 0.784\n",
    "# unity x_i: 0.85\n",
    "roc_auc_score(y_train, y_pred_train), roc_auc_score(y_test, y_pred_test)"
   ]
  },
  {
   "cell_type": "code",
   "execution_count": 7,
   "metadata": {
    "ExecuteTime": {
     "end_time": "2018-09-12T14:07:07.917655Z",
     "start_time": "2018-09-12T14:07:07.829437Z"
    }
   },
   "outputs": [
    {
     "name": "stdout",
     "output_type": "stream",
     "text": [
      "0.037916594236513924 0.028807461772473918 0.9709064703607538\n",
      "0.03793327316965178 0.028832196346147775 0.9709202360264974\n"
     ]
    }
   ],
   "source": [
    "print(np.sqrt(mean_squared_error(p_train, y_pred_train)), mean_absolute_error(p_train, y_pred_train),r2_score(p_train, y_pred_train) )\n",
    "print(np.sqrt(mean_squared_error(p_test, y_pred_test)), mean_absolute_error(p_test, y_pred_test),r2_score(p_test, y_pred_test) )"
   ]
  },
  {
   "cell_type": "code",
   "execution_count": 8,
   "metadata": {
    "ExecuteTime": {
     "end_time": "2018-09-12T14:07:11.530203Z",
     "start_time": "2018-09-12T14:07:07.921666Z"
    }
   },
   "outputs": [
    {
     "data": {
      "text/plain": [
       "<seaborn.axisgrid.JointGrid at 0xd27812e588>"
      ]
     },
     "execution_count": 8,
     "metadata": {},
     "output_type": "execute_result"
    },
    {
     "data": {
      "image/png": "[encoded data removed]",
      "text/plain": [
       "<Figure size 432x432 with 3 Axes>"
      ]
     },
     "metadata": {},
     "output_type": "display_data"
    }
   ],
   "source": [
    "sns.jointplot(x=p_test.values[:10000], y=y_pred_test[:10000], kind=\"kde\")"
   ]
  },
  {
   "cell_type": "code",
   "execution_count": 9,
   "metadata": {
    "ExecuteTime": {
     "end_time": "2018-09-12T14:07:11.546246Z",
     "start_time": "2018-09-12T14:07:11.533212Z"
    }
   },
   "outputs": [
    {
     "data": {
      "text/plain": [
       "['propensity_model_sklearn_mlp.pkl']"
      ]
     },
     "execution_count": 9,
     "metadata": {},
     "output_type": "execute_result"
    }
   ],
   "source": [
    "joblib.dump(model, 'propensity_model_sklearn_mlp.pkl') "
   ]
  }
 ],
 "metadata": {
  "anaconda-cloud": {},
  "kernelspec": {
   "display_name": "Python 3",
   "language": "python",
   "name": "python3"
  },
  "language_info": {
   "codemirror_mode": {
    "name": "ipython",
    "version": 3
   },
   "file_extension": ".py",
   "mimetype": "text/x-python",
   "name": "python",
   "nbconvert_exporter": "python",
   "pygments_lexer": "ipython3",
   "version": "3.6.5"
  },
  "toc": {
   "base_numbering": 1,
   "nav_menu": {},
   "number_sections": true,
   "sideBar": true,
   "skip_h1_title": false,
   "title_cell": "Table of Contents",
   "title_sidebar": "Contents",
   "toc_cell": false,
   "toc_position": {},
   "toc_section_display": true,
   "toc_window_display": false
  }
 },
 "nbformat": 4,
 "nbformat_minor": 2
}
