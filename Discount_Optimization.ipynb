{
 "cells": [
  {
   "cell_type": "code",
   "execution_count": 1,
   "metadata": {
    "ExecuteTime": {
     "end_time": "2018-09-06T08:31:53.805931Z",
     "start_time": "2018-09-06T08:31:51.515516Z"
    }
   },
   "outputs": [
    {
     "name": "stderr",
     "output_type": "stream",
     "text": [
      "C:\\Users\\JnJ\\Anaconda3\\lib\\site-packages\\h5py\\__init__.py:36: FutureWarning: Conversion of the second argument of issubdtype from `float` to `np.floating` is deprecated. In future, it will be treated as `np.float64 == np.dtype(float).type`.\n",
      "  from ._conv import register_converters as _register_converters\n",
      "Using TensorFlow backend.\n"
     ]
    }
   ],
   "source": [
    "import numpy as np\n",
    "import pandas as pd\n",
    "import pygmo as pg\n",
    "import sys\n",
    "import matplotlib.pyplot as plt\n",
    "import seaborn as sns\n",
    "\n",
    "pd.set_option('display.max_rows', 500)\n",
    " \n",
    "from keras.models import load_model\n",
    "from sklearn.externals import joblib \n",
    "\n",
    "%load_ext line_profiler"
   ]
  },
  {
   "cell_type": "code",
   "execution_count": 2,
   "metadata": {
    "ExecuteTime": {
     "end_time": "2018-09-06T08:31:53.866133Z",
     "start_time": "2018-09-06T08:31:53.805931Z"
    }
   },
   "outputs": [
    {
     "name": "stdout",
     "output_type": "stream",
     "text": [
      "(10000, 22)\n"
     ]
    }
   ],
   "source": [
    "df=pd.read_csv('training_data_randn.csv', nrows=10000)\n",
    "cols_x = ['nPurchases', 'nPurchasesDiscount', 'AvgPrice', 'AvgService', 'AvgDiscount', 'CLV', 'Service', 'RRP', 'Discount']\n",
    "col_y = 'is_deal'\n",
    "col_p = 'Probability'\n",
    "print(df.shape)"
   ]
  },
  {
   "cell_type": "code",
   "execution_count": 3,
   "metadata": {
    "ExecuteTime": {
     "end_time": "2018-09-06T08:31:54.618559Z",
     "start_time": "2018-09-06T08:31:53.867133Z"
    }
   },
   "outputs": [],
   "source": [
    "class predictor:\n",
    "    def __init__(self, f_scalar_pickle, f_model_h5):\n",
    "        self.f_scalar_pickle = f_scalar_pickle\n",
    "        self.f_model_h5 = f_model_h5\n",
    "        self.model = load_model(f_model_h5)\n",
    "        self.scalar = joblib.load(f_scalar_pickle)\n",
    "        \n",
    "    def predict(self, X):\n",
    "        X_s = self.scalar.transform(X)\n",
    "        y = self.model.predict(X_s)[:, 0]\n",
    "        return y\n",
    "    \n",
    "    def __copy__(self):\n",
    "        newone = type(self)(self.f_scalar_pickle, self.f_model_h5)\n",
    "        return newone\n",
    "    \n",
    "    def __deepcopy__(self, memo):\n",
    "        newone = type(self)(self.f_scalar_pickle, self.f_model_h5)\n",
    "        return newone\n",
    "    \n",
    "m = predictor('x_scalar_randn.pkl', 'elasticity_model_randn.h5')\n"
   ]
  },
  {
   "cell_type": "code",
   "execution_count": 33,
   "metadata": {
    "ExecuteTime": {
     "end_time": "2018-09-06T08:42:29.113800Z",
     "start_time": "2018-09-06T08:42:16.998643Z"
    }
   },
   "outputs": [
    {
     "name": "stdout",
     "output_type": "stream",
     "text": [
      "149 ms ± 1.36 ms per loop (mean ± std. dev. of 7 runs, 10 loops each)\n"
     ]
    }
   ],
   "source": [
    "%%timeit\n",
    "m.predict(df[cols_x])"
   ]
  },
  {
   "cell_type": "code",
   "execution_count": 4,
   "metadata": {
    "ExecuteTime": {
     "end_time": "2018-09-06T08:31:55.387987Z",
     "start_time": "2018-09-06T08:31:55.305784Z"
    },
    "scrolled": true
   },
   "outputs": [],
   "source": [
    "df.loc[:, 'pred'] = m.predict(df[cols_x])"
   ]
  },
  {
   "cell_type": "code",
   "execution_count": 5,
   "metadata": {
    "ExecuteTime": {
     "end_time": "2018-09-06T08:31:56.726417Z",
     "start_time": "2018-09-06T08:31:55.699203Z"
    }
   },
   "outputs": [
    {
     "data": {
      "text/plain": [
       "<seaborn.axisgrid.JointGrid at 0x855ad30>"
      ]
     },
     "execution_count": 5,
     "metadata": {},
     "output_type": "execute_result"
    },
    {
     "data": {
      "image/png": "[encoded data removed]",
      "text/plain": [
       "<Figure size 432x432 with 3 Axes>"
      ]
     },
     "metadata": {},
     "output_type": "display_data"
    }
   ],
   "source": [
    "sns.jointplot(x=col_p, y='pred', data = df.iloc[:1000], kind=\"kde\")"
   ]
  },
  {
   "cell_type": "markdown",
   "metadata": {},
   "source": [
    "# Background\n",
    "\n",
    "Linear programming vs non-linear programming\n",
    "\n",
    "Optimization algorithms: local vs heuristic"
   ]
  },
  {
   "cell_type": "markdown",
   "metadata": {},
   "source": [
    "# User Defined Problem (UDP)"
   ]
  },
  {
   "cell_type": "markdown",
   "metadata": {},
   "source": [
    "## Single-objective optimization\n",
    "\n",
    "Find out the discount amount for each product in order to maximize revenue"
   ]
  },
  {
   "cell_type": "code",
   "execution_count": 6,
   "metadata": {
    "ExecuteTime": {
     "end_time": "2018-09-06T08:31:58.391046Z",
     "start_time": "2018-09-06T08:31:58.375446Z"
    }
   },
   "outputs": [],
   "source": [
    "# class optimal_discount_per_product_for_max_revenue:\n",
    "#     def __init__(self, df, model): \n",
    "#         self.cols_x = ['nPurchases', 'nPurchasesDiscount', 'AvgPrice', 'AvgService', 'AvgDiscount', 'CLV', 'Service', 'RRP', 'Discount']\n",
    "#         self.df_X = df[self.cols_x+ ['product_id',]]     \n",
    "#         self.p_ids = df['product_id'].unique()\n",
    "#         self.n_products = len(self.p_ids)\n",
    "#         self.max_discounts_ratio = (df.Discount/df.RRP).max()\n",
    "#         self.model = model\n",
    "        \n",
    "#     def fitness(self, dv): # fitness given decision vector (dv)\n",
    "#         prod_discount = dict(zip(self.p_ids, dv))\n",
    "#         v_dis = self.df_X['product_id'].map(prod_discount) * self.df_X['RRP']\n",
    "#         X = self.df_X[self.cols_x].values\n",
    "#         X[:, -1] = v_dis\n",
    "#         y = self.model.predict(self.df_X[self.cols_x])\n",
    "#         return y\n",
    "        \n",
    "#     def get_bounds(self): # box bounds of decision vector (dv)\n",
    "#         return ([0,]*self.n_products, [self.max_discounts_ratio, ]*self.n_products)"
   ]
  },
  {
   "cell_type": "code",
   "execution_count": 7,
   "metadata": {
    "ExecuteTime": {
     "end_time": "2018-09-06T08:32:01.535114Z",
     "start_time": "2018-09-06T08:32:01.519514Z"
    }
   },
   "outputs": [],
   "source": [
    "class optimal_discount_per_product_for_max_revenue:\n",
    "    def __init__(self, df, model): \n",
    "        cols_x = ['nPurchases', 'nPurchasesDiscount', 'AvgPrice', 'AvgService', 'AvgDiscount', 'CLV', 'Service', 'RRP', 'Discount']\n",
    "        self.X = df[cols_x].values     \n",
    "        self.x_products_id = df['product_id']\n",
    "        self.p_ids = df['product_id'].unique()\n",
    "        self.n_products = len(self.p_ids)\n",
    "        self.max_discounts_ratio = (df.Discount/df.RRP).max()\n",
    "        self.model = predictor('x_scalar_randn.pkl', 'elasticity_model_randn.h5')\n",
    "        \n",
    "    def fitness(self, dv): # fitness given decision vector (dv)\n",
    "        prod_discount = dict(zip(self.p_ids, dv))\n",
    "        self.X[:, -1] = self.x_products_id.map(prod_discount) * self.X[:, -2]\n",
    "        y_prob = self.model.predict(self.X)\n",
    "        revenue = y_prob.dot(self.X[:, -2] - self.X[:, -1])  \n",
    "        return [-revenue,]\n",
    "    \n",
    "    def get_bounds(self): # box bounds of decision vector (dv)       \n",
    "        return ([0,]*self.n_products, [self.max_discounts_ratio, ]*self.n_products)"
   ]
  },
  {
   "cell_type": "code",
   "execution_count": 8,
   "metadata": {
    "ExecuteTime": {
     "end_time": "2018-09-06T08:32:02.637543Z",
     "start_time": "2018-09-06T08:32:01.889733Z"
    }
   },
   "outputs": [],
   "source": [
    "pp_rev = optimal_discount_per_product_for_max_revenue(df, m)"
   ]
  },
  {
   "cell_type": "code",
   "execution_count": 9,
   "metadata": {
    "ExecuteTime": {
     "end_time": "2018-09-06T08:32:03.254570Z",
     "start_time": "2018-09-06T08:32:02.637543Z"
    }
   },
   "outputs": [
    {
     "name": "stdout",
     "output_type": "stream",
     "text": [
      "0.0 3279111.0\n",
      "0.02 3194013.0\n",
      "0.04 3151852.0\n",
      "0.06 3219784.0\n",
      "0.08 3500566.0\n",
      "0.1 3918792.0\n",
      "0.12 4237974.0\n",
      "0.14 4379165.0\n",
      "0.16 4393400.0\n",
      "0.18 4335283.0\n"
     ]
    }
   ],
   "source": [
    "for v in np.arange(0, 0.2, 0.02):\n",
    "    print(v, round(-pp_rev.fitness([v,]*5)[0]))"
   ]
  },
  {
   "cell_type": "code",
   "execution_count": 10,
   "metadata": {
    "ExecuteTime": {
     "end_time": "2018-09-06T08:32:09.625252Z",
     "start_time": "2018-09-06T08:32:07.357442Z"
    }
   },
   "outputs": [],
   "source": [
    "prob = pg.problem(pp_rev)\n",
    "algo = pg.algorithm(pg.de(gen = 100))\n",
    "pop = pg.population(prob,10)\n"
   ]
  },
  {
   "cell_type": "code",
   "execution_count": 11,
   "metadata": {
    "ExecuteTime": {
     "end_time": "2018-09-06T08:33:09.533634Z",
     "start_time": "2018-09-06T08:32:09.625252Z"
    }
   },
   "outputs": [],
   "source": [
    "pop = algo.evolve(pop)"
   ]
  },
  {
   "cell_type": "code",
   "execution_count": 12,
   "metadata": {
    "ExecuteTime": {
     "end_time": "2018-09-06T08:33:09.549234Z",
     "start_time": "2018-09-06T08:33:09.533634Z"
    }
   },
   "outputs": [
    {
     "name": "stdout",
     "output_type": "stream",
     "text": [
      "[0.15347458 0.1616868  0.16135997 0.12678191 0.19991756] [-4441582.74040853]\n"
     ]
    }
   ],
   "source": [
    "best_x_rev = pop.champion_x\n",
    "best_f_rev = pop.champion_f\n",
    "print(best_x_rev, best_f_rev) "
   ]
  },
  {
   "cell_type": "markdown",
   "metadata": {},
   "source": [
    "## Multi-objective optimization"
   ]
  },
  {
   "cell_type": "code",
   "execution_count": 13,
   "metadata": {
    "ExecuteTime": {
     "end_time": "2018-09-06T08:33:09.564834Z",
     "start_time": "2018-09-06T08:33:09.549234Z"
    }
   },
   "outputs": [],
   "source": [
    "class optimal_discount_per_product_for_max_revenue_min_cost:\n",
    "    def __init__(self, df, model): \n",
    "        cols_x = ['nPurchases', 'nPurchasesDiscount', 'AvgPrice', 'AvgService', 'AvgDiscount', 'CLV', 'Service', 'RRP', 'Discount']\n",
    "        self.X = df[cols_x].values     \n",
    "        self.x_products_id = df['product_id']\n",
    "        self.x_cost = df['Cost']\n",
    "        self.p_ids = df['product_id'].unique()\n",
    "        self.n_products = len(self.p_ids)\n",
    "        self.max_discounts_ratio = (df.Discount/df.RRP).max()\n",
    "        self.model = predictor('x_scalar_randn.pkl', 'elasticity_model_randn.h5')\n",
    "    \n",
    "    def get_nobj(self):\n",
    "        return 2\n",
    "    \n",
    "    def fitness(self, dv): # fitness given decision vector (dv)\n",
    "        prod_discount = dict(zip(self.p_ids, dv))\n",
    "        self.X[:, -1] = self.x_products_id.map(prod_discount) * self.X[:, -2]\n",
    "        y_prob = self.model.predict(self.X)\n",
    "        revenue = y_prob.dot(self.X[:, -2] - self.X[:, -1])  \n",
    "        cost = y_prob.dot(self.x_cost)\n",
    "        return [-revenue,-cost]\n",
    "    \n",
    "    def get_bounds(self): # box bounds of decision vector (dv)       \n",
    "        return ([0,]*self.n_products, [self.max_discounts_ratio, ]*self.n_products)"
   ]
  },
  {
   "cell_type": "code",
   "execution_count": 14,
   "metadata": {
    "ExecuteTime": {
     "end_time": "2018-09-06T08:33:10.687661Z",
     "start_time": "2018-09-06T08:33:09.566835Z"
    }
   },
   "outputs": [],
   "source": [
    "pp_rev_cost = optimal_discount_per_product_for_max_revenue_min_cost(df, m)"
   ]
  },
  {
   "cell_type": "code",
   "execution_count": 15,
   "metadata": {
    "ExecuteTime": {
     "end_time": "2018-09-06T08:33:11.481289Z",
     "start_time": "2018-09-06T08:33:10.688662Z"
    }
   },
   "outputs": [
    {
     "name": "stdout",
     "output_type": "stream",
     "text": [
      "0.0 [ 3279111. -1312194.]\n",
      "0.02 [ 3194013. -1302610.]\n",
      "0.04 [ 3151852. -1311725.]\n",
      "0.06 [ 3219784. -1372697.]\n",
      "0.08 [ 3500566. -1537609.]\n",
      "0.1 [ 3918792. -1764603.]\n",
      "0.12 [ 4237974. -1939883.]\n",
      "0.14 [ 4379165. -2037403.]\n",
      "0.16 [ 4393400. -2084175.]\n",
      "0.18 [ 4335283. -2102531.]\n"
     ]
    }
   ],
   "source": [
    "for v in np.arange(0, 0.2, 0.02):\n",
    "    print(v, -np.asarray(pp_rev_cost.fitness([v,]*5)).round())"
   ]
  },
  {
   "cell_type": "code",
   "execution_count": null,
   "metadata": {
    "ExecuteTime": {
     "start_time": "2018-09-06T09:26:11.045Z"
    }
   },
   "outputs": [],
   "source": [
    "prob = pg.problem(pp_rev_cost)\n",
    "pop = pg.population(prob,32)"
   ]
  },
  {
   "cell_type": "code",
   "execution_count": null,
   "metadata": {},
   "outputs": [],
   "source": [
    "algo = pg.algorithm(pg.nsga2(gen = 100))\n",
    "algo.set_verbosity(5)"
   ]
  },
  {
   "cell_type": "code",
   "execution_count": 43,
   "metadata": {
    "ExecuteTime": {
     "end_time": "2018-09-06T09:03:51.276547Z",
     "start_time": "2018-09-06T08:50:53.655368Z"
    }
   },
   "outputs": [],
   "source": [
    "pop = algo.evolve(pop)"
   ]
  },
  {
   "cell_type": "code",
   "execution_count": 53,
   "metadata": {
    "ExecuteTime": {
     "end_time": "2018-09-06T09:25:03.850884Z",
     "start_time": "2018-09-06T09:25:03.835284Z"
    }
   },
   "outputs": [],
   "source": [
    "fits, vectors = -pop.get_f(), pop.get_x()\n",
    "ndf, dl, dc, ndr = pg.fast_non_dominated_sorting(fits)"
   ]
  },
  {
   "cell_type": "code",
   "execution_count": 54,
   "metadata": {
    "ExecuteTime": {
     "end_time": "2018-09-06T09:25:05.079312Z",
     "start_time": "2018-09-06T09:25:05.063712Z"
    }
   },
   "outputs": [],
   "source": [
    "idx_sorted = fits.argsort(0)[:, 0]"
   ]
  },
  {
   "cell_type": "code",
   "execution_count": 36,
   "metadata": {
    "ExecuteTime": {
     "end_time": "2018-09-06T08:42:29.145401Z",
     "start_time": "2018-09-06T08:42:29.135400Z"
    }
   },
   "outputs": [
    {
     "data": {
      "text/plain": [
       "array([[ 3225888.94671196, -1331445.90387373],\n",
       "       [ 3254914.84181603, -1348303.4450137 ],\n",
       "       [ 3311514.00660312, -1380264.33511535],\n",
       "       [ 3327578.56825368, -1391720.18037801],\n",
       "       [ 3408973.81305962, -1404316.9582921 ],\n",
       "       [ 3431591.45466606, -1409531.42205169],\n",
       "       [ 3464226.30121756, -1438878.36870918],\n",
       "       [ 3515787.16696368, -1454511.04253808],\n",
       "       [ 3553057.63193307, -1475924.08432305],\n",
       "       [ 3597013.7185158 , -1495381.35340872],\n",
       "       [ 3668096.31238548, -1532683.24449509],\n",
       "       [ 3720921.73505964, -1565400.16778368],\n",
       "       [ 3811153.52616482, -1600491.64105983],\n",
       "       [ 3827908.99386521, -1608657.28262712],\n",
       "       [ 3853915.50866017, -1628996.39384512],\n",
       "       [ 3900525.20074554, -1642327.80196583],\n",
       "       [ 3934017.96199277, -1658153.78675561],\n",
       "       [ 3991001.92051645, -1700490.06447558],\n",
       "       [ 3999015.88194176, -1705871.63126775],\n",
       "       [ 4031443.13873356, -1732846.06020987],\n",
       "       [ 4053837.12897152, -1765747.23211229],\n",
       "       [ 4070797.33445628, -1769222.76201822],\n",
       "       [ 4086011.22334014, -1842043.58519214],\n",
       "       [ 4091771.67805517, -1846351.50081547],\n",
       "       [ 4163748.24261448, -1891523.07465688],\n",
       "       [ 4206233.77873236, -1894928.06936405],\n",
       "       [ 4213882.21007368, -1917861.60012483],\n",
       "       [ 4243161.84167124, -1937964.47889106],\n",
       "       [ 4321936.96085644, -1970913.08560784],\n",
       "       [ 4346860.7748358 , -2007321.2150867 ],\n",
       "       [ 4379582.96140573, -2016042.3068844 ],\n",
       "       [ 4404853.13851517, -2051144.95058832]])"
      ]
     },
     "execution_count": 36,
     "metadata": {},
     "output_type": "execute_result"
    }
   ],
   "source": [
    "fits[idx_sorted]"
   ]
  },
  {
   "cell_type": "code",
   "execution_count": 37,
   "metadata": {
    "ExecuteTime": {
     "end_time": "2018-09-06T08:42:29.592426Z",
     "start_time": "2018-09-06T08:42:29.586426Z"
    }
   },
   "outputs": [
    {
     "data": {
      "text/plain": [
       "array([[0.01336855, 0.07352044, 0.03013724, 0.01469742, 0.06489632],\n",
       "       [0.01336855, 0.07752961, 0.02840276, 0.01469742, 0.09109924],\n",
       "       [0.01336855, 0.07326873, 0.0862368 , 0.0151557 , 0.0628068 ],\n",
       "       [0.01336855, 0.07547786, 0.08450299, 0.0151557 , 0.08900972],\n",
       "       [0.01359921, 0.11322162, 0.02831257, 0.01926868, 0.089967  ],\n",
       "       [0.01359921, 0.11518763, 0.01986803, 0.01333868, 0.089967  ],\n",
       "       [0.01360446, 0.11322162, 0.07741655, 0.01926868, 0.08991555],\n",
       "       [0.00484335, 0.12079507, 0.07741778, 0.01351247, 0.09017181],\n",
       "       [0.01315189, 0.14495218, 0.0317102 , 0.01462934, 0.1333412 ],\n",
       "       [0.02059048, 0.13480538, 0.08890731, 0.00968977, 0.09001338],\n",
       "       [0.00346896, 0.16447819, 0.11190176, 0.0336872 , 0.02607583],\n",
       "       [0.00771009, 0.14946134, 0.15235046, 0.03126924, 0.01543901],\n",
       "       [0.13408248, 0.17815858, 0.02840276, 0.0018673 , 0.09109924],\n",
       "       [0.14190773, 0.16443612, 0.07466383, 0.01402286, 0.04115673],\n",
       "       [0.14205963, 0.16537263, 0.07466383, 0.01402286, 0.09102019],\n",
       "       [0.13356297, 0.1348137 , 0.11190176, 0.0323115 , 0.02607583],\n",
       "       [0.15233822, 0.1348137 , 0.11190176, 0.01410491, 0.02607583],\n",
       "       [0.13821469, 0.14949848, 0.15235046, 0.03159443, 0.01543901],\n",
       "       [0.13821469, 0.15956958, 0.15235046, 0.027945  , 0.01306441],\n",
       "       [0.1257385 , 0.14946134, 0.14318694, 0.03143169, 0.13457946],\n",
       "       [0.17355186, 0.14638383, 0.15459463, 0.02854129, 0.13526646],\n",
       "       [0.17527657, 0.14638383, 0.15459463, 0.01370245, 0.13526646],\n",
       "       [0.13036871, 0.18192084, 0.07466383, 0.10450565, 0.04115673],\n",
       "       [0.13042311, 0.18469308, 0.0158191 , 0.10086506, 0.13690866],\n",
       "       [0.14408891, 0.14946134, 0.07394909, 0.1153782 , 0.09056669],\n",
       "       [0.1314943 , 0.15246577, 0.09428776, 0.09918888, 0.13457946],\n",
       "       [0.13213697, 0.1845827 , 0.09639329, 0.10096417, 0.13651942],\n",
       "       [0.13944219, 0.11763565, 0.15235046, 0.11606719, 0.01545272],\n",
       "       [0.13320422, 0.14946134, 0.15235046, 0.11606719, 0.01543901],\n",
       "       [0.16789121, 0.16042299, 0.15215024, 0.11606719, 0.06865286],\n",
       "       [0.13320422, 0.14946134, 0.15235046, 0.11606719, 0.12505391],\n",
       "       [0.16789121, 0.1503519 , 0.15235046, 0.11973444, 0.14129133]])"
      ]
     },
     "execution_count": 37,
     "metadata": {},
     "output_type": "execute_result"
    }
   ],
   "source": [
    "vectors[idx_sorted]"
   ]
  },
  {
   "cell_type": "code",
   "execution_count": 45,
   "metadata": {
    "ExecuteTime": {
     "end_time": "2018-09-06T09:20:55.576532Z",
     "start_time": "2018-09-06T09:20:55.560932Z"
    }
   },
   "outputs": [],
   "source": [
    "log = algo.extract(pg.nsga2).get_log()"
   ]
  },
  {
   "cell_type": "markdown",
   "metadata": {},
   "source": [
    "## Optimization with constraint"
   ]
  },
  {
   "cell_type": "markdown",
   "metadata": {},
   "source": [
    "## Integer problem"
   ]
  },
  {
   "cell_type": "markdown",
   "metadata": {},
   "source": [
    "## Optimization with gradient/hessian"
   ]
  },
  {
   "cell_type": "markdown",
   "metadata": {},
   "source": [
    "## Logging during training\n",
    "\n",
    "log = algo.extract(pg.nlopt).get_log()\n",
    "from matplotlib import pyplot as plt \n",
    "plt.semilogy([line[0] for line in log], [line[1] for line in log], label = \"obj\") \n",
    "plt.semilogy([line[0] for line in log], [line[3] for line in log], label = \"con\")\n"
   ]
  },
  {
   "cell_type": "code",
   "execution_count": null,
   "metadata": {},
   "outputs": [],
   "source": []
  }
 ],
 "metadata": {
  "kernelspec": {
   "display_name": "Python 3",
   "language": "python",
   "name": "python3"
  },
  "language_info": {
   "codemirror_mode": {
    "name": "ipython",
    "version": 3
   },
   "file_extension": ".py",
   "mimetype": "text/x-python",
   "name": "python",
   "nbconvert_exporter": "python",
   "pygments_lexer": "ipython3",
   "version": "3.6.5"
  },
  "toc": {
   "base_numbering": 1,
   "nav_menu": {},
   "number_sections": true,
   "sideBar": true,
   "skip_h1_title": false,
   "title_cell": "Table of Contents",
   "title_sidebar": "Contents",
   "toc_cell": false,
   "toc_position": {},
   "toc_section_display": true,
   "toc_window_display": true
  }
 },
 "nbformat": 4,
 "nbformat_minor": 2
}
