{
 "cells": [
  {
   "cell_type": "code",
   "execution_count": 2,
   "metadata": {
    "ExecuteTime": {
     "end_time": "2018-09-07T14:06:39.595715Z",
     "start_time": "2018-09-07T14:06:39.589698Z"
    }
   },
   "outputs": [
    {
     "name": "stdout",
     "output_type": "stream",
     "text": [
      "The line_profiler extension is already loaded. To reload it, use:\n",
      "  %reload_ext line_profiler\n"
     ]
    }
   ],
   "source": [
    "import numpy as np\n",
    "import pandas as pd\n",
    "import pygmo as pg\n",
    "import sys\n",
    "import os\n",
    "import matplotlib.pyplot as plt\n",
    "import seaborn as sns\n",
    "\n",
    "pd.set_option('display.max_rows', 500)\n",
    "\n",
    "os.environ['KERAS_BACKEND'] = 'tensorflow'\n",
    "from keras.models import load_model\n",
    "from sklearn.externals import joblib \n",
    "\n",
    "%load_ext line_profiler"
   ]
  },
  {
   "cell_type": "code",
   "execution_count": 3,
   "metadata": {
    "ExecuteTime": {
     "end_time": "2018-09-07T14:06:40.023904Z",
     "start_time": "2018-09-07T14:06:39.905574Z"
    }
   },
   "outputs": [
    {
     "name": "stdout",
     "output_type": "stream",
     "text": [
      "(10000, 22)\n"
     ]
    }
   ],
   "source": [
    "df=pd.read_csv('training_data_randn.csv', nrows=10000)\n",
    "cols_x = ['nPurchases', 'nPurchasesDiscount', 'AvgPrice', 'AvgService', 'AvgDiscount', 'CLV', 'Service', 'RRP', 'Discount']\n",
    "col_y = 'is_deal'\n",
    "col_p = 'Probability'\n",
    "print(df.shape)"
   ]
  },
  {
   "cell_type": "code",
   "execution_count": 4,
   "metadata": {
    "ExecuteTime": {
     "end_time": "2018-09-07T14:06:40.112149Z",
     "start_time": "2018-09-07T14:06:40.106132Z"
    }
   },
   "outputs": [],
   "source": [
    "class propensity_predictor:\n",
    "    def __init__(self, f_scalar_pickle, f_model_h5):\n",
    "        self.f_scalar_pickle = f_scalar_pickle\n",
    "        self.f_model_h5 = f_model_h5\n",
    "        self.model = None\n",
    "        \n",
    "    def predict(self, X):\n",
    "        if self.model is None:\n",
    "            self.scalar = joblib.load(self.f_scalar_pickle)\n",
    "            self.model = load_model(self.f_model_h5)            \n",
    "        X_s = self.scalar.transform(X)\n",
    "        y = self.model.predict(X_s)[:, 0]\n",
    "        return y\n",
    "    \n",
    "    def __copy__(self):\n",
    "        newone = type(self)(self.f_scalar_pickle, self.f_model_h5)\n",
    "        return newone\n",
    "    \n",
    "    def __deepcopy__(self, memo):\n",
    "        newone = type(self)(self.f_scalar_pickle, self.f_model_h5)\n",
    "        return newone\n",
    "    \n",
    "m = propensity_predictor('x_scalar_randn.pkl', 'propensity_model_randn.h5')\n"
   ]
  },
  {
   "cell_type": "code",
   "execution_count": 5,
   "metadata": {
    "ExecuteTime": {
     "end_time": "2018-09-07T14:06:42.093649Z",
     "start_time": "2018-09-07T14:06:40.311703Z"
    }
   },
   "outputs": [
    {
     "name": "stdout",
     "output_type": "stream",
     "text": [
      "64.5 ms ± 4.75 ms per loop (mean ± std. dev. of 7 runs, 1 loop each)\n"
     ]
    }
   ],
   "source": [
    "%%timeit\n",
    "m.predict(df[cols_x])"
   ]
  },
  {
   "cell_type": "code",
   "execution_count": 6,
   "metadata": {
    "ExecuteTime": {
     "end_time": "2018-09-07T14:06:42.179914Z",
     "start_time": "2018-09-07T14:06:42.095654Z"
    },
    "scrolled": true
   },
   "outputs": [],
   "source": [
    "df.loc[:, 'pred'] = m.predict(df[cols_x])"
   ]
  },
  {
   "cell_type": "code",
   "execution_count": 7,
   "metadata": {
    "ExecuteTime": {
     "end_time": "2018-09-07T14:06:43.420363Z",
     "start_time": "2018-09-07T14:06:42.181925Z"
    }
   },
   "outputs": [
    {
     "data": {
      "text/plain": [
       "<seaborn.axisgrid.JointGrid at 0xb63d47ab70>"
      ]
     },
     "execution_count": 7,
     "metadata": {},
     "output_type": "execute_result"
    },
    {
     "data": {
      "image/png": "[encoded data removed]",
      "text/plain": [
       "<Figure size 432x432 with 3 Axes>"
      ]
     },
     "metadata": {},
     "output_type": "display_data"
    }
   ],
   "source": [
    "sns.jointplot(x=col_p, y='pred', data = df.iloc[:1000], kind=\"kde\")"
   ]
  },
  {
   "cell_type": "markdown",
   "metadata": {},
   "source": [
    "# Background\n",
    "\n",
    "Linear programming vs non-linear programming\n",
    "\n",
    "Optimization algorithms: local vs heuristic"
   ]
  },
  {
   "cell_type": "markdown",
   "metadata": {},
   "source": [
    "# User Defined Problem (UDP)"
   ]
  },
  {
   "cell_type": "markdown",
   "metadata": {},
   "source": [
    "## Objectives"
   ]
  },
  {
   "cell_type": "code",
   "execution_count": 42,
   "metadata": {
    "ExecuteTime": {
     "end_time": "2018-09-08T09:36:43.965011Z",
     "start_time": "2018-09-08T09:36:43.962005Z"
    }
   },
   "outputs": [],
   "source": [
    "f_discounts = np.arange(0, 0.21, 0.01)"
   ]
  },
  {
   "cell_type": "code",
   "execution_count": 43,
   "metadata": {
    "ExecuteTime": {
     "end_time": "2018-09-08T09:36:45.821134Z",
     "start_time": "2018-09-08T09:36:44.111585Z"
    }
   },
   "outputs": [],
   "source": [
    "for f in f_discounts:\n",
    "    X = df[cols_x].values\n",
    "    X[:, -1] = df['RRP']*f\n",
    "    df.loc[:, 'y_pred_{:.02f}'.format(f)] = m.predict(X)"
   ]
  },
  {
   "cell_type": "code",
   "execution_count": null,
   "metadata": {},
   "outputs": [],
   "source": [
    "def plot_"
   ]
  },
  {
   "cell_type": "code",
   "execution_count": null,
   "metadata": {},
   "outputs": [],
   "source": [
    "df.groupby('product_id').apply()"
   ]
  },
  {
   "cell_type": "markdown",
   "metadata": {},
   "source": [
    "## Single-objective optimization\n",
    "\n",
    "Find out the discount amount for each product in order to maximize revenue"
   ]
  },
  {
   "cell_type": "code",
   "execution_count": null,
   "metadata": {
    "ExecuteTime": {
     "end_time": "2018-09-06T08:31:58.391046Z",
     "start_time": "2018-09-06T08:31:58.375446Z"
    }
   },
   "outputs": [],
   "source": [
    "# class optimal_discount_per_product_for_max_revenue:\n",
    "#     def __init__(self, df, model): \n",
    "#         self.cols_x = ['nPurchases', 'nPurchasesDiscount', 'AvgPrice', 'AvgService', 'AvgDiscount', 'CLV', 'Service', 'RRP', 'Discount']\n",
    "#         self.df_X = df[self.cols_x+ ['product_id',]]     \n",
    "#         self.p_ids = df['product_id'].unique()\n",
    "#         self.n_products = len(self.p_ids)\n",
    "#         self.max_discounts_ratio = (df.Discount/df.RRP).max()\n",
    "#         self.model = model\n",
    "        \n",
    "#     def fitness(self, dv): # fitness given decision vector (dv)\n",
    "#         prod_discount = dict(zip(self.p_ids, dv))\n",
    "#         v_dis = self.df_X['product_id'].map(prod_discount) * self.df_X['RRP']\n",
    "#         X = self.df_X[self.cols_x].values\n",
    "#         X[:, -1] = v_dis\n",
    "#         y = self.model.predict(self.df_X[self.cols_x])\n",
    "#         return y\n",
    "        \n",
    "#     def get_bounds(self): # box bounds of decision vector (dv)\n",
    "#         return ([0,]*self.n_products, [self.max_discounts_ratio, ]*self.n_products)"
   ]
  },
  {
   "cell_type": "code",
   "execution_count": null,
   "metadata": {
    "ExecuteTime": {
     "end_time": "2018-09-06T08:32:01.535114Z",
     "start_time": "2018-09-06T08:32:01.519514Z"
    }
   },
   "outputs": [],
   "source": [
    "class optimal_discount_per_product_for_max_revenue:\n",
    "    def __init__(self, df, model): \n",
    "        cols_x = ['nPurchases', 'nPurchasesDiscount', 'AvgPrice', 'AvgService', 'AvgDiscount', 'CLV', 'Service', 'RRP', 'Discount']\n",
    "        self.X = df[cols_x].values     \n",
    "        self.x_products_id = df['product_id']\n",
    "        self.p_ids = df['product_id'].unique()\n",
    "        self.n_products = len(self.p_ids)\n",
    "        self.max_discounts_ratio = (df.Discount/df.RRP).max()\n",
    "        self.model = predictor('x_scalar_randn.pkl', 'elasticity_model_randn.h5')\n",
    "        \n",
    "    def fitness(self, dv): # fitness given decision vector (dv)\n",
    "        prod_discount = dict(zip(self.p_ids, dv))\n",
    "        self.X[:, -1] = self.x_products_id.map(prod_discount) * self.X[:, -2]\n",
    "        y_prob = self.model.predict(self.X)\n",
    "        revenue = y_prob.dot(self.X[:, -2] - self.X[:, -1])  \n",
    "        return [-revenue,]\n",
    "    \n",
    "    def get_bounds(self): # box bounds of decision vector (dv)       \n",
    "        return ([0,]*self.n_products, [self.max_discounts_ratio, ]*self.n_products)"
   ]
  },
  {
   "cell_type": "code",
   "execution_count": null,
   "metadata": {
    "ExecuteTime": {
     "end_time": "2018-09-06T08:32:02.637543Z",
     "start_time": "2018-09-06T08:32:01.889733Z"
    }
   },
   "outputs": [],
   "source": [
    "pp_rev = optimal_discount_per_product_for_max_revenue(df, m)"
   ]
  },
  {
   "cell_type": "code",
   "execution_count": null,
   "metadata": {
    "ExecuteTime": {
     "end_time": "2018-09-06T08:32:03.254570Z",
     "start_time": "2018-09-06T08:32:02.637543Z"
    }
   },
   "outputs": [],
   "source": [
    "for v in np.arange(0, 0.2, 0.02):\n",
    "    print(v, round(-pp_rev.fitness([v,]*5)[0]))"
   ]
  },
  {
   "cell_type": "code",
   "execution_count": null,
   "metadata": {
    "ExecuteTime": {
     "end_time": "2018-09-06T08:32:09.625252Z",
     "start_time": "2018-09-06T08:32:07.357442Z"
    }
   },
   "outputs": [],
   "source": [
    "prob = pg.problem(pp_rev)\n",
    "algo = pg.algorithm(pg.de(gen = 100))\n",
    "pop = pg.population(prob,10)\n"
   ]
  },
  {
   "cell_type": "code",
   "execution_count": null,
   "metadata": {
    "ExecuteTime": {
     "end_time": "2018-09-06T08:33:09.533634Z",
     "start_time": "2018-09-06T08:32:09.625252Z"
    }
   },
   "outputs": [],
   "source": [
    "pop = algo.evolve(pop)"
   ]
  },
  {
   "cell_type": "code",
   "execution_count": null,
   "metadata": {
    "ExecuteTime": {
     "end_time": "2018-09-06T08:33:09.549234Z",
     "start_time": "2018-09-06T08:33:09.533634Z"
    }
   },
   "outputs": [],
   "source": [
    "best_x_rev = pop.champion_x\n",
    "best_f_rev = pop.champion_f\n",
    "print(best_x_rev, best_f_rev) "
   ]
  },
  {
   "cell_type": "markdown",
   "metadata": {},
   "source": [
    "## Multi-objective optimization"
   ]
  },
  {
   "cell_type": "code",
   "execution_count": 10,
   "metadata": {
    "ExecuteTime": {
     "end_time": "2018-09-07T14:08:02.518541Z",
     "start_time": "2018-09-07T14:08:02.511523Z"
    }
   },
   "outputs": [],
   "source": [
    "class optimal_discount_per_product_for_max_revenue_min_cost:\n",
    "    def __init__(self, df, model): \n",
    "        cols_x = ['nPurchases', 'nPurchasesDiscount', 'AvgPrice', 'AvgService', 'AvgDiscount', 'CLV', 'Service', 'RRP', 'Discount']\n",
    "        self.X = df[cols_x].values     \n",
    "        self.x_products_id = df['product_id']\n",
    "        self.x_cost = df['Cost']\n",
    "        self.p_ids = df['product_id'].unique()\n",
    "        self.n_products = len(self.p_ids)\n",
    "        self.max_discounts_ratio = (df.Discount/df.RRP).max()\n",
    "        self.model = model\n",
    "    \n",
    "    def get_nobj(self):\n",
    "        return 2\n",
    "    \n",
    "    def fitness(self, dv): # fitness given decision vector (dv)\n",
    "        prod_discount = dict(zip(self.p_ids, dv))\n",
    "        self.X[:, -1] = self.x_products_id.map(prod_discount) * self.X[:, -2]\n",
    "        y_prob = self.model.predict(self.X)\n",
    "        revenue = y_prob.dot(self.X[:, -2] - self.X[:, -1])  \n",
    "        cost = y_prob.dot(self.x_cost)\n",
    "        return [-revenue,-cost]\n",
    "    \n",
    "    def get_bounds(self): # box bounds of decision vector (dv)       \n",
    "        return ([0,]*self.n_products, [self.max_discounts_ratio, ]*self.n_products)"
   ]
  },
  {
   "cell_type": "code",
   "execution_count": 11,
   "metadata": {
    "ExecuteTime": {
     "end_time": "2018-09-07T14:08:03.475004Z",
     "start_time": "2018-09-07T14:08:03.466983Z"
    }
   },
   "outputs": [],
   "source": [
    "pp_rev_cost = optimal_discount_per_product_for_max_revenue_min_cost(df, m)"
   ]
  },
  {
   "cell_type": "code",
   "execution_count": 12,
   "metadata": {
    "ExecuteTime": {
     "end_time": "2018-09-07T14:08:05.542711Z",
     "start_time": "2018-09-07T14:08:04.903971Z"
    }
   },
   "outputs": [
    {
     "name": "stdout",
     "output_type": "stream",
     "text": [
      "0.0 [ 3400893. -1364435.]\n",
      "0.02 [ 3339541. -1363657.]\n",
      "0.04 [ 3348306. -1393762.]\n",
      "0.06 [ 3474014. -1479358.]\n",
      "0.08 [ 3749202. -1639967.]\n",
      "0.1 [ 4113978. -1846031.]\n",
      "0.12 [ 4423793. -2023478.]\n",
      "0.14 [ 4583097. -2129857.]\n",
      "0.16 [ 4592098. -2171691.]\n",
      "0.18 [ 4495902. -2170817.]\n"
     ]
    }
   ],
   "source": [
    "for v in np.arange(0, 0.2, 0.02):\n",
    "    print(v, -np.asarray(pp_rev_cost.fitness([v,]*5)).round())"
   ]
  },
  {
   "cell_type": "code",
   "execution_count": 13,
   "metadata": {
    "ExecuteTime": {
     "end_time": "2018-09-07T14:08:09.338057Z",
     "start_time": "2018-09-07T14:08:05.799411Z"
    }
   },
   "outputs": [],
   "source": [
    "prob = pg.problem(pp_rev_cost)\n",
    "pop = pg.population(prob,32)"
   ]
  },
  {
   "cell_type": "code",
   "execution_count": 14,
   "metadata": {
    "ExecuteTime": {
     "end_time": "2018-09-07T14:08:09.347082Z",
     "start_time": "2018-09-07T14:08:09.340063Z"
    }
   },
   "outputs": [],
   "source": [
    "algo = pg.algorithm(pg.nsga2(gen = 100))\n",
    "algo.set_verbosity(5)"
   ]
  },
  {
   "cell_type": "code",
   "execution_count": 15,
   "metadata": {
    "ExecuteTime": {
     "end_time": "2018-09-07T14:12:30.429974Z",
     "start_time": "2018-09-07T14:08:11.728852Z"
    }
   },
   "outputs": [
    {
     "name": "stdout",
     "output_type": "stream",
     "text": [
      "Wall time: 4min 18s\n"
     ]
    }
   ],
   "source": [
    "%%time\n",
    "pop = algo.evolve(pop)"
   ]
  },
  {
   "cell_type": "code",
   "execution_count": 16,
   "metadata": {
    "ExecuteTime": {
     "end_time": "2018-09-07T14:12:30.438494Z",
     "start_time": "2018-09-07T14:12:30.433981Z"
    }
   },
   "outputs": [],
   "source": [
    "fits, vectors = -pop.get_f(), pop.get_x()\n",
    "ndf, dl, dc, ndr = pg.fast_non_dominated_sorting(fits)"
   ]
  },
  {
   "cell_type": "code",
   "execution_count": 17,
   "metadata": {
    "ExecuteTime": {
     "end_time": "2018-09-07T14:12:30.472587Z",
     "start_time": "2018-09-07T14:12:30.442003Z"
    }
   },
   "outputs": [],
   "source": [
    "idx_sorted = fits.argsort(0)[:, 0]"
   ]
  },
  {
   "cell_type": "code",
   "execution_count": 18,
   "metadata": {
    "ExecuteTime": {
     "end_time": "2018-09-07T14:12:30.498160Z",
     "start_time": "2018-09-07T14:12:30.479105Z"
    }
   },
   "outputs": [
    {
     "data": {
      "text/plain": [
       "array([[ 3339896.96058607, -1351187.55644077],\n",
       "       [ 3348602.94304101, -1352643.30897859],\n",
       "       [ 3403108.84302131, -1392760.37757826],\n",
       "       [ 3477629.65334742, -1417224.29551777],\n",
       "       [ 3535957.65105173, -1438568.96432814],\n",
       "       [ 3563678.61336758, -1450466.02251701],\n",
       "       [ 3649452.20557549, -1475595.1444291 ],\n",
       "       [ 3661285.39379813, -1490150.71923002],\n",
       "       [ 3762520.87536161, -1545055.01128768],\n",
       "       [ 3803565.91326665, -1559013.45471468],\n",
       "       [ 3819200.27053928, -1570228.89657743],\n",
       "       [ 3861616.38559051, -1604909.30620376],\n",
       "       [ 3993450.21374072, -1651578.9262584 ],\n",
       "       [ 4039495.8365048 , -1694007.12698144],\n",
       "       [ 4100217.77544957, -1717620.64017075],\n",
       "       [ 4117509.72898321, -1733626.98279577],\n",
       "       [ 4230126.67179946, -1794719.13384921],\n",
       "       [ 4250976.51354396, -1833436.6318983 ],\n",
       "       [ 4268832.53470934, -1845570.23395014],\n",
       "       [ 4318646.12854459, -1876203.12517489],\n",
       "       [ 4350804.83896325, -1904290.92138876],\n",
       "       [ 4359625.88262223, -1943361.89943247],\n",
       "       [ 4414179.84177699, -1972007.28000597],\n",
       "       [ 4483012.71290526, -2017434.62163371],\n",
       "       [ 4513587.1190876 , -2048310.91571538],\n",
       "       [ 4529096.86331164, -2075201.48876593],\n",
       "       [ 4577856.02162889, -2103981.90199387],\n",
       "       [ 4582771.12213844, -2106916.79375932],\n",
       "       [ 4615057.3007858 , -2142030.98904148],\n",
       "       [ 4623854.38790144, -2150565.23539344],\n",
       "       [ 4661564.88825369, -2195112.23191279],\n",
       "       [ 4664851.20868233, -2196409.01760333]])"
      ]
     },
     "execution_count": 18,
     "metadata": {},
     "output_type": "execute_result"
    }
   ],
   "source": [
    "fits[idx_sorted]"
   ]
  },
  {
   "cell_type": "code",
   "execution_count": 28,
   "metadata": {
    "ExecuteTime": {
     "end_time": "2018-09-08T09:15:51.266714Z",
     "start_time": "2018-09-08T09:15:51.259696Z"
    }
   },
   "outputs": [
    {
     "data": {
      "text/plain": [
       "array([[0.  , 0.01, 0.  , 0.03, 0.  ],\n",
       "       [0.  , 0.01, 0.  , 0.02, 0.  ],\n",
       "       [0.  , 0.01, 0.07, 0.02, 0.  ],\n",
       "       [0.08, 0.01, 0.  , 0.  , 0.  ],\n",
       "       [0.09, 0.  , 0.  , 0.  , 0.  ],\n",
       "       [0.1 , 0.  , 0.  , 0.  , 0.  ],\n",
       "       [0.  , 0.13, 0.  , 0.01, 0.  ],\n",
       "       [0.01, 0.15, 0.  , 0.03, 0.  ],\n",
       "       [0.  , 0.16, 0.07, 0.01, 0.  ],\n",
       "       [0.08, 0.16, 0.01, 0.  , 0.  ],\n",
       "       [0.09, 0.16, 0.  , 0.02, 0.  ],\n",
       "       [0.1 , 0.16, 0.06, 0.03, 0.  ],\n",
       "       [0.15, 0.15, 0.  , 0.01, 0.  ],\n",
       "       [0.08, 0.16, 0.13, 0.  , 0.01],\n",
       "       [0.13, 0.15, 0.11, 0.02, 0.01],\n",
       "       [0.14, 0.15, 0.11, 0.03, 0.01],\n",
       "       [0.15, 0.16, 0.14, 0.01, 0.01],\n",
       "       [0.15, 0.13, 0.12, 0.01, 0.19],\n",
       "       [0.15, 0.13, 0.13, 0.01, 0.19],\n",
       "       [0.15, 0.16, 0.14, 0.01, 0.19],\n",
       "       [0.15, 0.16, 0.16, 0.  , 0.2 ],\n",
       "       [0.13, 0.14, 0.11, 0.1 , 0.  ],\n",
       "       [0.15, 0.16, 0.12, 0.1 , 0.01],\n",
       "       [0.15, 0.16, 0.14, 0.1 , 0.  ],\n",
       "       [0.15, 0.16, 0.14, 0.11, 0.01],\n",
       "       [0.15, 0.16, 0.11, 0.1 , 0.19],\n",
       "       [0.15, 0.16, 0.14, 0.1 , 0.19],\n",
       "       [0.15, 0.16, 0.14, 0.1 , 0.18],\n",
       "       [0.15, 0.16, 0.16, 0.11, 0.2 ],\n",
       "       [0.15, 0.16, 0.17, 0.11, 0.2 ],\n",
       "       [0.15, 0.16, 0.16, 0.13, 0.2 ],\n",
       "       [0.15, 0.16, 0.16, 0.13, 0.2 ]])"
      ]
     },
     "execution_count": 28,
     "metadata": {},
     "output_type": "execute_result"
    }
   ],
   "source": [
    "vectors[idx_sorted].round(2)"
   ]
  },
  {
   "cell_type": "code",
   "execution_count": 20,
   "metadata": {
    "ExecuteTime": {
     "end_time": "2018-09-07T14:12:30.544282Z",
     "start_time": "2018-09-07T14:12:30.525732Z"
    }
   },
   "outputs": [],
   "source": [
    "log = algo.extract(pg.nsga2).get_log()"
   ]
  },
  {
   "cell_type": "code",
   "execution_count": 24,
   "metadata": {
    "ExecuteTime": {
     "end_time": "2018-09-07T21:21:03.201814Z",
     "start_time": "2018-09-07T21:21:03.197803Z"
    }
   },
   "outputs": [],
   "source": [
    "hv=pg.hypervolume(fits)"
   ]
  },
  {
   "cell_type": "code",
   "execution_count": 26,
   "metadata": {
    "ExecuteTime": {
     "end_time": "2018-09-07T21:30:38.009130Z",
     "start_time": "2018-09-07T21:30:38.002111Z"
    }
   },
   "outputs": [
    {
     "data": {
      "text/plain": [
       "array([ 4664851.20868233, -1351187.55644077])"
      ]
     },
     "execution_count": 26,
     "metadata": {},
     "output_type": "execute_result"
    }
   ],
   "source": [
    "hv.refpoint()"
   ]
  },
  {
   "cell_type": "markdown",
   "metadata": {},
   "source": [
    "## Optimization with constraint"
   ]
  },
  {
   "cell_type": "markdown",
   "metadata": {},
   "source": [
    "## Integer problem"
   ]
  },
  {
   "cell_type": "markdown",
   "metadata": {},
   "source": [
    "## Optimization with gradient/hessian"
   ]
  },
  {
   "cell_type": "markdown",
   "metadata": {},
   "source": [
    "## Logging during training\n",
    "\n",
    "log = algo.extract(pg.nlopt).get_log()\n",
    "from matplotlib import pyplot as plt \n",
    "plt.semilogy([line[0] for line in log], [line[1] for line in log], label = \"obj\") \n",
    "plt.semilogy([line[0] for line in log], [line[3] for line in log], label = \"con\")\n"
   ]
  },
  {
   "cell_type": "code",
   "execution_count": null,
   "metadata": {},
   "outputs": [],
   "source": []
  }
 ],
 "metadata": {
  "kernelspec": {
   "display_name": "Python 3",
   "language": "python",
   "name": "python3"
  },
  "language_info": {
   "codemirror_mode": {
    "name": "ipython",
    "version": 3
   },
   "file_extension": ".py",
   "mimetype": "text/x-python",
   "name": "python",
   "nbconvert_exporter": "python",
   "pygments_lexer": "ipython3",
   "version": "3.6.5"
  },
  "toc": {
   "base_numbering": 1,
   "nav_menu": {},
   "number_sections": true,
   "sideBar": true,
   "skip_h1_title": false,
   "title_cell": "Table of Contents",
   "title_sidebar": "Contents",
   "toc_cell": false,
   "toc_position": {},
   "toc_section_display": true,
   "toc_window_display": true
  }
 },
 "nbformat": 4,
 "nbformat_minor": 2
}
