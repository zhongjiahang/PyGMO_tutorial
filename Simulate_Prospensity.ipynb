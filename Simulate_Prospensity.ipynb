{
 "cells": [
  {
   "cell_type": "code",
   "execution_count": 1,
   "metadata": {
    "ExecuteTime": {
     "end_time": "2018-09-02T10:46:02.274903Z",
     "start_time": "2018-09-02T10:46:01.760873Z"
    },
    "collapsed": false
   },
   "outputs": [],
   "source": [
    "import numpy as np\n",
    "import pandas as pd\n",
    "import pygmo\n",
    "import sys\n",
    "import matplotlib.pyplot as plt\n",
    "\n",
    "pd.set_option('display.max_rows', 500)\n",
    " \n",
    "%matplotlib inline"
   ]
  },
  {
   "cell_type": "code",
   "execution_count": 2,
   "metadata": {
    "ExecuteTime": {
     "end_time": "2018-09-02T10:46:02.278903Z",
     "start_time": "2018-09-02T10:46:02.275903Z"
    },
    "collapsed": true
   },
   "outputs": [],
   "source": [
    "n_prod = 5\n",
    "n_customer = 1000000"
   ]
  },
  {
   "cell_type": "code",
   "execution_count": 3,
   "metadata": {
    "ExecuteTime": {
     "end_time": "2018-09-02T10:46:02.287903Z",
     "start_time": "2018-09-02T10:46:02.280903Z"
    },
    "collapsed": true
   },
   "outputs": [],
   "source": [
    "n_customer_predictors=2\n",
    "n_product_predictors=1\n",
    "\n",
    "customer_predictors = ['x_c%d'%i for i in range(n_customer_predictors)]\n",
    "product_predictors = ['x_p%d'%i for i in range(n_product_predictors)]\n",
    "\n",
    "\n"
   ]
  },
  {
   "cell_type": "code",
   "execution_count": 4,
   "metadata": {
    "ExecuteTime": {
     "end_time": "2018-09-02T10:46:02.321905Z",
     "start_time": "2018-09-02T10:46:02.289904Z"
    },
    "collapsed": false
   },
   "outputs": [
    {
     "data": {
      "text/html": [
       "<div>\n",
       "<style scoped>\n",
       "    .dataframe tbody tr th:only-of-type {\n",
       "        vertical-align: middle;\n",
       "    }\n",
       "\n",
       "    .dataframe tbody tr th {\n",
       "        vertical-align: top;\n",
       "    }\n",
       "\n",
       "    .dataframe thead th {\n",
       "        text-align: right;\n",
       "    }\n",
       "</style>\n",
       "<table border=\"1\" class=\"dataframe\">\n",
       "  <thead>\n",
       "    <tr style=\"text-align: right;\">\n",
       "      <th></th>\n",
       "      <th>x_p0</th>\n",
       "      <th>RRP</th>\n",
       "      <th>Service</th>\n",
       "      <th>Cost</th>\n",
       "    </tr>\n",
       "  </thead>\n",
       "  <tbody>\n",
       "    <tr>\n",
       "      <th>0</th>\n",
       "      <td>0.126970</td>\n",
       "      <td>1100.0</td>\n",
       "      <td>290.0</td>\n",
       "      <td>-410.0</td>\n",
       "    </tr>\n",
       "    <tr>\n",
       "      <th>1</th>\n",
       "      <td>0.966718</td>\n",
       "      <td>1300.0</td>\n",
       "      <td>410.0</td>\n",
       "      <td>-410.0</td>\n",
       "    </tr>\n",
       "    <tr>\n",
       "      <th>2</th>\n",
       "      <td>0.260476</td>\n",
       "      <td>2100.0</td>\n",
       "      <td>190.0</td>\n",
       "      <td>-1240.0</td>\n",
       "    </tr>\n",
       "    <tr>\n",
       "      <th>3</th>\n",
       "      <td>0.897237</td>\n",
       "      <td>600.0</td>\n",
       "      <td>360.0</td>\n",
       "      <td>-300.0</td>\n",
       "    </tr>\n",
       "    <tr>\n",
       "      <th>4</th>\n",
       "      <td>0.376750</td>\n",
       "      <td>1500.0</td>\n",
       "      <td>860.0</td>\n",
       "      <td>-400.0</td>\n",
       "    </tr>\n",
       "  </tbody>\n",
       "</table>\n",
       "</div>"
      ],
      "text/plain": [
       "       x_p0     RRP  Service    Cost\n",
       "0  0.126970  1100.0    290.0  -410.0\n",
       "1  0.966718  1300.0    410.0  -410.0\n",
       "2  0.260476  2100.0    190.0 -1240.0\n",
       "3  0.897237   600.0    360.0  -300.0\n",
       "4  0.376750  1500.0    860.0  -400.0"
      ]
     },
     "execution_count": 4,
     "metadata": {},
     "output_type": "execute_result"
    }
   ],
   "source": [
    "np.random.seed(123456)\n",
    "df_prod = pd.DataFrame(np.random.rand(n_prod, n_product_predictors), columns = product_predictors)\n",
    "df_prod.loc[:, 'RRP'] = ((np.random.rand(n_prod)+.2)*2e3).round(-2)\n",
    "df_prod.loc[:, 'Service'] = (np.random.rand(n_prod) * 0.7 * df_prod['RRP']).round(-1)\n",
    "df_prod.loc[:, 'Cost'] = -((np.random.rand(n_prod) * 0.5 + 0.2)* df_prod['RRP']).round(-1)\n",
    "\n",
    "df_prod"
   ]
  },
  {
   "cell_type": "code",
   "execution_count": 5,
   "metadata": {
    "ExecuteTime": {
     "end_time": "2018-09-02T10:46:03.480972Z",
     "start_time": "2018-09-02T10:46:02.323905Z"
    },
    "collapsed": false
   },
   "outputs": [
    {
     "name": "stdout",
     "output_type": "stream",
     "text": [
      "(1000000, 8)\n"
     ]
    },
    {
     "data": {
      "text/html": [
       "<div>\n",
       "<style scoped>\n",
       "    .dataframe tbody tr th:only-of-type {\n",
       "        vertical-align: middle;\n",
       "    }\n",
       "\n",
       "    .dataframe tbody tr th {\n",
       "        vertical-align: top;\n",
       "    }\n",
       "\n",
       "    .dataframe thead th {\n",
       "        text-align: right;\n",
       "    }\n",
       "</style>\n",
       "<table border=\"1\" class=\"dataframe\">\n",
       "  <thead>\n",
       "    <tr style=\"text-align: right;\">\n",
       "      <th></th>\n",
       "      <th>x_c0</th>\n",
       "      <th>x_c1</th>\n",
       "      <th>nPurchases</th>\n",
       "      <th>AvgPrice</th>\n",
       "      <th>AvgService</th>\n",
       "      <th>nPurchasesDiscount</th>\n",
       "      <th>AvgDiscount</th>\n",
       "      <th>CLV</th>\n",
       "    </tr>\n",
       "  </thead>\n",
       "  <tbody>\n",
       "    <tr>\n",
       "      <th>count</th>\n",
       "      <td>1000000.000000</td>\n",
       "      <td>1000000.000000</td>\n",
       "      <td>1000000.000000</td>\n",
       "      <td>1000000.000000</td>\n",
       "      <td>1000000.000000</td>\n",
       "      <td>1000000.000000</td>\n",
       "      <td>1000000.000000</td>\n",
       "      <td>1000000.00000</td>\n",
       "    </tr>\n",
       "    <tr>\n",
       "      <th>mean</th>\n",
       "      <td>0.499988</td>\n",
       "      <td>0.500139</td>\n",
       "      <td>5.975454</td>\n",
       "      <td>1424.079410</td>\n",
       "      <td>498.275670</td>\n",
       "      <td>2.986722</td>\n",
       "      <td>142.330868</td>\n",
       "      <td>7528.36130</td>\n",
       "    </tr>\n",
       "    <tr>\n",
       "      <th>std</th>\n",
       "      <td>0.099998</td>\n",
       "      <td>0.099924</td>\n",
       "      <td>6.823806</td>\n",
       "      <td>510.781618</td>\n",
       "      <td>354.571117</td>\n",
       "      <td>4.313762</td>\n",
       "      <td>59.325915</td>\n",
       "      <td>3486.59158</td>\n",
       "    </tr>\n",
       "    <tr>\n",
       "      <th>min</th>\n",
       "      <td>0.000000</td>\n",
       "      <td>0.039714</td>\n",
       "      <td>0.000000</td>\n",
       "      <td>540.000000</td>\n",
       "      <td>0.000000</td>\n",
       "      <td>0.000000</td>\n",
       "      <td>10.000000</td>\n",
       "      <td>1300.00000</td>\n",
       "    </tr>\n",
       "    <tr>\n",
       "      <th>25%</th>\n",
       "      <td>0.432566</td>\n",
       "      <td>0.432838</td>\n",
       "      <td>0.000000</td>\n",
       "      <td>980.000000</td>\n",
       "      <td>210.000000</td>\n",
       "      <td>0.000000</td>\n",
       "      <td>94.000000</td>\n",
       "      <td>4800.00000</td>\n",
       "    </tr>\n",
       "    <tr>\n",
       "      <th>50%</th>\n",
       "      <td>0.500019</td>\n",
       "      <td>0.500092</td>\n",
       "      <td>3.000000</td>\n",
       "      <td>1420.000000</td>\n",
       "      <td>430.000000</td>\n",
       "      <td>1.000000</td>\n",
       "      <td>137.000000</td>\n",
       "      <td>7000.00000</td>\n",
       "    </tr>\n",
       "    <tr>\n",
       "      <th>75%</th>\n",
       "      <td>0.567369</td>\n",
       "      <td>0.567460</td>\n",
       "      <td>10.000000</td>\n",
       "      <td>1870.000000</td>\n",
       "      <td>720.000000</td>\n",
       "      <td>4.000000</td>\n",
       "      <td>184.000000</td>\n",
       "      <td>9600.00000</td>\n",
       "    </tr>\n",
       "    <tr>\n",
       "      <th>max</th>\n",
       "      <td>0.978614</td>\n",
       "      <td>0.986989</td>\n",
       "      <td>24.000000</td>\n",
       "      <td>2310.000000</td>\n",
       "      <td>1620.000000</td>\n",
       "      <td>24.000000</td>\n",
       "      <td>421.000000</td>\n",
       "      <td>27400.00000</td>\n",
       "    </tr>\n",
       "  </tbody>\n",
       "</table>\n",
       "</div>"
      ],
      "text/plain": [
       "                 x_c0            x_c1      nPurchases        AvgPrice  \\\n",
       "count  1000000.000000  1000000.000000  1000000.000000  1000000.000000   \n",
       "mean         0.499988        0.500139        5.975454     1424.079410   \n",
       "std          0.099998        0.099924        6.823806      510.781618   \n",
       "min          0.000000        0.039714        0.000000      540.000000   \n",
       "25%          0.432566        0.432838        0.000000      980.000000   \n",
       "50%          0.500019        0.500092        3.000000     1420.000000   \n",
       "75%          0.567369        0.567460       10.000000     1870.000000   \n",
       "max          0.978614        0.986989       24.000000     2310.000000   \n",
       "\n",
       "           AvgService  nPurchasesDiscount     AvgDiscount            CLV  \n",
       "count  1000000.000000      1000000.000000  1000000.000000  1000000.00000  \n",
       "mean       498.275670            2.986722      142.330868     7528.36130  \n",
       "std        354.571117            4.313762       59.325915     3486.59158  \n",
       "min          0.000000            0.000000       10.000000     1300.00000  \n",
       "25%        210.000000            0.000000       94.000000     4800.00000  \n",
       "50%        430.000000            1.000000      137.000000     7000.00000  \n",
       "75%        720.000000            4.000000      184.000000     9600.00000  \n",
       "max       1620.000000           24.000000      421.000000    27400.00000  "
      ]
     },
     "execution_count": 5,
     "metadata": {},
     "output_type": "execute_result"
    }
   ],
   "source": [
    "min_Price = df_prod['RRP'].min()*0.9\n",
    "max_Price = df_prod['RRP'].max()*1.1\n",
    "\n",
    "# df_customer = pd.DataFrame(np.random.rand(n_customer, n_customer_predictors), columns = customer_predictors)\n",
    "# df_customer = pd.DataFrame(np.ones((n_customer, n_customer_predictors)), columns = customer_predictors)\n",
    "df_customer = pd.DataFrame(np.clip(np.random.randn(n_customer, n_customer_predictors)*0.1+0.5, 0., 1.), columns = customer_predictors)\n",
    "\n",
    "df_customer.loc[:, 'nPurchases']= (24*(np.random.rand(n_customer)**3)).round()\n",
    "df_customer.loc[:, 'AvgPrice']= (min_Price + (max_Price-min_Price)*np.random.rand(n_customer)).round(-1)\n",
    "df_customer.loc[:, 'AvgService']= (np.random.rand(n_customer) * 0.7 * df_customer['AvgPrice']).round(-1)\n",
    "df_customer.loc[:, 'nPurchasesDiscount']= (np.random.rand(n_customer)*df_customer['nPurchases']).round()\n",
    "df_customer.loc[:, 'AvgDiscount']= ((np.random.randn(n_customer)*0.2+1)*0.1*df_customer['AvgPrice']).round()\n",
    "df_customer.loc[:, 'CLV']=((np.random.randn(n_customer)*0.1+1)* df_customer.eval('sqrt(nPurchases+10)*(AvgPrice+AvgService)')).round(-2)\n",
    "\n",
    "print(df_customer.shape)\n",
    "df_customer.describe()\n"
   ]
  },
  {
   "cell_type": "code",
   "execution_count": 6,
   "metadata": {
    "ExecuteTime": {
     "end_time": "2018-09-02T10:46:04.175011Z",
     "start_time": "2018-09-02T10:46:03.481972Z"
    },
    "collapsed": false
   },
   "outputs": [],
   "source": [
    "df_prod.loc[:, 'product_id']=df_prod.index\n",
    "df_customer.loc[:, 'customer_id']=df_customer.index\n",
    "df_customer.loc[:, 'product_id']= np.random.randint(0, len(df_prod), len(df_customer))\n",
    "\n",
    "df = pd.merge(df_customer, df_prod, on='product_id').sort_values('customer_id')\n",
    "\n",
    "df.loc[:, 'Discount'] = (df['RRP']*np.random.rand(len(df))*0.2).round(-1)"
   ]
  },
  {
   "cell_type": "code",
   "execution_count": 7,
   "metadata": {
    "ExecuteTime": {
     "end_time": "2018-09-02T10:46:04.181012Z",
     "start_time": "2018-09-02T10:46:04.177011Z"
    },
    "collapsed": false
   },
   "outputs": [
    {
     "data": {
      "text/plain": [
       "((1000000, 10), (5, 5), (1000000, 15))"
      ]
     },
     "execution_count": 7,
     "metadata": {},
     "output_type": "execute_result"
    }
   ],
   "source": [
    "df_customer.shape, df_prod.shape, df.shape"
   ]
  },
  {
   "cell_type": "code",
   "execution_count": 8,
   "metadata": {
    "ExecuteTime": {
     "end_time": "2018-09-02T10:46:04.206013Z",
     "start_time": "2018-09-02T10:46:04.182012Z"
    },
    "collapsed": false
   },
   "outputs": [
    {
     "data": {
      "text/html": [
       "<div>\n",
       "<style scoped>\n",
       "    .dataframe tbody tr th:only-of-type {\n",
       "        vertical-align: middle;\n",
       "    }\n",
       "\n",
       "    .dataframe tbody tr th {\n",
       "        vertical-align: top;\n",
       "    }\n",
       "\n",
       "    .dataframe thead th {\n",
       "        text-align: right;\n",
       "    }\n",
       "</style>\n",
       "<table border=\"1\" class=\"dataframe\">\n",
       "  <thead>\n",
       "    <tr style=\"text-align: right;\">\n",
       "      <th></th>\n",
       "      <th>x_c0</th>\n",
       "      <th>x_c1</th>\n",
       "      <th>nPurchases</th>\n",
       "      <th>AvgPrice</th>\n",
       "      <th>AvgService</th>\n",
       "      <th>nPurchasesDiscount</th>\n",
       "      <th>AvgDiscount</th>\n",
       "      <th>CLV</th>\n",
       "      <th>customer_id</th>\n",
       "      <th>product_id</th>\n",
       "      <th>x_p0</th>\n",
       "      <th>RRP</th>\n",
       "      <th>Service</th>\n",
       "      <th>Cost</th>\n",
       "      <th>Discount</th>\n",
       "    </tr>\n",
       "  </thead>\n",
       "  <tbody>\n",
       "    <tr>\n",
       "      <th>0</th>\n",
       "      <td>0.457503</td>\n",
       "      <td>0.556702</td>\n",
       "      <td>0.0</td>\n",
       "      <td>1370.0</td>\n",
       "      <td>690.0</td>\n",
       "      <td>0.0</td>\n",
       "      <td>93.0</td>\n",
       "      <td>5600.0</td>\n",
       "      <td>0</td>\n",
       "      <td>1</td>\n",
       "      <td>0.966718</td>\n",
       "      <td>1300.0</td>\n",
       "      <td>410.0</td>\n",
       "      <td>-410.0</td>\n",
       "      <td>30.0</td>\n",
       "    </tr>\n",
       "    <tr>\n",
       "      <th>199235</th>\n",
       "      <td>0.527623</td>\n",
       "      <td>0.391260</td>\n",
       "      <td>5.0</td>\n",
       "      <td>580.0</td>\n",
       "      <td>310.0</td>\n",
       "      <td>4.0</td>\n",
       "      <td>61.0</td>\n",
       "      <td>3900.0</td>\n",
       "      <td>1</td>\n",
       "      <td>4</td>\n",
       "      <td>0.376750</td>\n",
       "      <td>1500.0</td>\n",
       "      <td>860.0</td>\n",
       "      <td>-400.0</td>\n",
       "      <td>250.0</td>\n",
       "    </tr>\n",
       "    <tr>\n",
       "      <th>1</th>\n",
       "      <td>0.432631</td>\n",
       "      <td>0.511365</td>\n",
       "      <td>2.0</td>\n",
       "      <td>1730.0</td>\n",
       "      <td>1180.0</td>\n",
       "      <td>2.0</td>\n",
       "      <td>104.0</td>\n",
       "      <td>10100.0</td>\n",
       "      <td>2</td>\n",
       "      <td>1</td>\n",
       "      <td>0.966718</td>\n",
       "      <td>1300.0</td>\n",
       "      <td>410.0</td>\n",
       "      <td>-410.0</td>\n",
       "      <td>180.0</td>\n",
       "    </tr>\n",
       "    <tr>\n",
       "      <th>399221</th>\n",
       "      <td>0.352157</td>\n",
       "      <td>0.552499</td>\n",
       "      <td>3.0</td>\n",
       "      <td>1570.0</td>\n",
       "      <td>190.0</td>\n",
       "      <td>2.0</td>\n",
       "      <td>156.0</td>\n",
       "      <td>5600.0</td>\n",
       "      <td>3</td>\n",
       "      <td>0</td>\n",
       "      <td>0.126970</td>\n",
       "      <td>1100.0</td>\n",
       "      <td>290.0</td>\n",
       "      <td>-410.0</td>\n",
       "      <td>130.0</td>\n",
       "    </tr>\n",
       "    <tr>\n",
       "      <th>199236</th>\n",
       "      <td>0.540471</td>\n",
       "      <td>0.557705</td>\n",
       "      <td>2.0</td>\n",
       "      <td>2220.0</td>\n",
       "      <td>720.0</td>\n",
       "      <td>1.0</td>\n",
       "      <td>238.0</td>\n",
       "      <td>9800.0</td>\n",
       "      <td>4</td>\n",
       "      <td>4</td>\n",
       "      <td>0.376750</td>\n",
       "      <td>1500.0</td>\n",
       "      <td>860.0</td>\n",
       "      <td>-400.0</td>\n",
       "      <td>260.0</td>\n",
       "    </tr>\n",
       "    <tr>\n",
       "      <th>2</th>\n",
       "      <td>0.328500</td>\n",
       "      <td>0.396073</td>\n",
       "      <td>1.0</td>\n",
       "      <td>1190.0</td>\n",
       "      <td>260.0</td>\n",
       "      <td>0.0</td>\n",
       "      <td>121.0</td>\n",
       "      <td>5100.0</td>\n",
       "      <td>5</td>\n",
       "      <td>1</td>\n",
       "      <td>0.966718</td>\n",
       "      <td>1300.0</td>\n",
       "      <td>410.0</td>\n",
       "      <td>-410.0</td>\n",
       "      <td>40.0</td>\n",
       "    </tr>\n",
       "    <tr>\n",
       "      <th>599558</th>\n",
       "      <td>0.462935</td>\n",
       "      <td>0.384211</td>\n",
       "      <td>0.0</td>\n",
       "      <td>1870.0</td>\n",
       "      <td>450.0</td>\n",
       "      <td>0.0</td>\n",
       "      <td>162.0</td>\n",
       "      <td>6700.0</td>\n",
       "      <td>6</td>\n",
       "      <td>2</td>\n",
       "      <td>0.260476</td>\n",
       "      <td>2100.0</td>\n",
       "      <td>190.0</td>\n",
       "      <td>-1240.0</td>\n",
       "      <td>390.0</td>\n",
       "    </tr>\n",
       "    <tr>\n",
       "      <th>599559</th>\n",
       "      <td>0.365569</td>\n",
       "      <td>0.584489</td>\n",
       "      <td>9.0</td>\n",
       "      <td>570.0</td>\n",
       "      <td>270.0</td>\n",
       "      <td>5.0</td>\n",
       "      <td>79.0</td>\n",
       "      <td>3900.0</td>\n",
       "      <td>7</td>\n",
       "      <td>2</td>\n",
       "      <td>0.260476</td>\n",
       "      <td>2100.0</td>\n",
       "      <td>190.0</td>\n",
       "      <td>-1240.0</td>\n",
       "      <td>70.0</td>\n",
       "    </tr>\n",
       "    <tr>\n",
       "      <th>399222</th>\n",
       "      <td>0.607577</td>\n",
       "      <td>0.489095</td>\n",
       "      <td>0.0</td>\n",
       "      <td>1230.0</td>\n",
       "      <td>150.0</td>\n",
       "      <td>0.0</td>\n",
       "      <td>137.0</td>\n",
       "      <td>4300.0</td>\n",
       "      <td>8</td>\n",
       "      <td>0</td>\n",
       "      <td>0.126970</td>\n",
       "      <td>1100.0</td>\n",
       "      <td>290.0</td>\n",
       "      <td>-410.0</td>\n",
       "      <td>180.0</td>\n",
       "    </tr>\n",
       "    <tr>\n",
       "      <th>3</th>\n",
       "      <td>0.664356</td>\n",
       "      <td>0.353061</td>\n",
       "      <td>1.0</td>\n",
       "      <td>1880.0</td>\n",
       "      <td>840.0</td>\n",
       "      <td>1.0</td>\n",
       "      <td>136.0</td>\n",
       "      <td>8900.0</td>\n",
       "      <td>9</td>\n",
       "      <td>1</td>\n",
       "      <td>0.966718</td>\n",
       "      <td>1300.0</td>\n",
       "      <td>410.0</td>\n",
       "      <td>-410.0</td>\n",
       "      <td>180.0</td>\n",
       "    </tr>\n",
       "  </tbody>\n",
       "</table>\n",
       "</div>"
      ],
      "text/plain": [
       "            x_c0      x_c1  nPurchases  AvgPrice  AvgService  \\\n",
       "0       0.457503  0.556702         0.0    1370.0       690.0   \n",
       "199235  0.527623  0.391260         5.0     580.0       310.0   \n",
       "1       0.432631  0.511365         2.0    1730.0      1180.0   \n",
       "399221  0.352157  0.552499         3.0    1570.0       190.0   \n",
       "199236  0.540471  0.557705         2.0    2220.0       720.0   \n",
       "2       0.328500  0.396073         1.0    1190.0       260.0   \n",
       "599558  0.462935  0.384211         0.0    1870.0       450.0   \n",
       "599559  0.365569  0.584489         9.0     570.0       270.0   \n",
       "399222  0.607577  0.489095         0.0    1230.0       150.0   \n",
       "3       0.664356  0.353061         1.0    1880.0       840.0   \n",
       "\n",
       "        nPurchasesDiscount  AvgDiscount      CLV  customer_id  product_id  \\\n",
       "0                      0.0         93.0   5600.0            0           1   \n",
       "199235                 4.0         61.0   3900.0            1           4   \n",
       "1                      2.0        104.0  10100.0            2           1   \n",
       "399221                 2.0        156.0   5600.0            3           0   \n",
       "199236                 1.0        238.0   9800.0            4           4   \n",
       "2                      0.0        121.0   5100.0            5           1   \n",
       "599558                 0.0        162.0   6700.0            6           2   \n",
       "599559                 5.0         79.0   3900.0            7           2   \n",
       "399222                 0.0        137.0   4300.0            8           0   \n",
       "3                      1.0        136.0   8900.0            9           1   \n",
       "\n",
       "            x_p0     RRP  Service    Cost  Discount  \n",
       "0       0.966718  1300.0    410.0  -410.0      30.0  \n",
       "199235  0.376750  1500.0    860.0  -400.0     250.0  \n",
       "1       0.966718  1300.0    410.0  -410.0     180.0  \n",
       "399221  0.126970  1100.0    290.0  -410.0     130.0  \n",
       "199236  0.376750  1500.0    860.0  -400.0     260.0  \n",
       "2       0.966718  1300.0    410.0  -410.0      40.0  \n",
       "599558  0.260476  2100.0    190.0 -1240.0     390.0  \n",
       "599559  0.260476  2100.0    190.0 -1240.0      70.0  \n",
       "399222  0.126970  1100.0    290.0  -410.0     180.0  \n",
       "3       0.966718  1300.0    410.0  -410.0     180.0  "
      ]
     },
     "execution_count": 8,
     "metadata": {},
     "output_type": "execute_result"
    }
   ],
   "source": [
    "df.head(10)"
   ]
  },
  {
   "cell_type": "code",
   "execution_count": 9,
   "metadata": {
    "ExecuteTime": {
     "end_time": "2018-09-02T10:46:05.286075Z",
     "start_time": "2018-09-02T10:46:04.208013Z"
    },
    "collapsed": true
   },
   "outputs": [],
   "source": [
    "df.loc[:, 'BaseProb'] =  df.eval('x_c0*exp(-(((AvgPrice-RRP)/0.5/AvgPrice)**2))')  # x_c0: customer base scale\n",
    "\n",
    "df.loc[:, 'D_Scale_exp'] = df.eval('AvgDiscount/(AvgPrice + x_c1 * AvgService )') # x_c2: customer weight of service price\n",
    "df.loc[:, 'D_Scale_act'] = df.eval('Discount/(RRP + x_c1 * Service )')\n",
    "df.loc[:, 'D_Freq'] = df.eval('(nPurchasesDiscount+0.3)/(nPurchases+1)')\n",
    "\n",
    "df.loc[:, 'DiscountNudge'] = df.eval('D_Freq*(1+tanh((D_Scale_act-D_Scale_exp)*50))')\n",
    "\n",
    "df.loc[:, 'Probability'] = df.eval('tanh(BaseProb * (1 + DiscountNudge))')\n",
    "\n",
    "df.loc[:, 'is_deal'] = (np.random.rand(len(df)) < df['Probability']).astype(int) "
   ]
  },
  {
   "cell_type": "code",
   "execution_count": 10,
   "metadata": {
    "ExecuteTime": {
     "end_time": "2018-09-02T10:46:05.295075Z",
     "start_time": "2018-09-02T10:46:05.288075Z"
    },
    "collapsed": true
   },
   "outputs": [],
   "source": [
    "col_models = ['Probability' ,'BaseProb','DiscountNudge', ]\n",
    "\n",
    "col_grby = ['product_id','Discount']\n",
    "# col_grby = [(df['D_Scale_exp']*4).round(1)/4.,(df['D_Scale_act']*4).round(1)/4.]"
   ]
  },
  {
   "cell_type": "code",
   "execution_count": 11,
   "metadata": {
    "ExecuteTime": {
     "end_time": "2018-09-02T10:46:05.668097Z",
     "start_time": "2018-09-02T10:46:05.296075Z"
    },
    "collapsed": false
   },
   "outputs": [
    {
     "data": {
      "text/html": [
       "<div>\n",
       "<style scoped>\n",
       "    .dataframe tbody tr th:only-of-type {\n",
       "        vertical-align: middle;\n",
       "    }\n",
       "\n",
       "    .dataframe tbody tr th {\n",
       "        vertical-align: top;\n",
       "    }\n",
       "\n",
       "    .dataframe thead th {\n",
       "        text-align: right;\n",
       "    }\n",
       "</style>\n",
       "<table border=\"1\" class=\"dataframe\">\n",
       "  <thead>\n",
       "    <tr style=\"text-align: right;\">\n",
       "      <th></th>\n",
       "      <th>Probability</th>\n",
       "      <th>BaseProb</th>\n",
       "      <th>DiscountNudge</th>\n",
       "    </tr>\n",
       "  </thead>\n",
       "  <tbody>\n",
       "    <tr>\n",
       "      <th>count</th>\n",
       "      <td>1000000.000000</td>\n",
       "      <td>1000000.000000</td>\n",
       "      <td>1.000000e+06</td>\n",
       "    </tr>\n",
       "    <tr>\n",
       "      <th>mean</th>\n",
       "      <td>0.336536</td>\n",
       "      <td>0.271545</td>\n",
       "      <td>4.093677e-01</td>\n",
       "    </tr>\n",
       "    <tr>\n",
       "      <th>std</th>\n",
       "      <td>0.230922</td>\n",
       "      <td>0.183369</td>\n",
       "      <td>4.743266e-01</td>\n",
       "    </tr>\n",
       "    <tr>\n",
       "      <th>min</th>\n",
       "      <td>0.000000</td>\n",
       "      <td>0.000000</td>\n",
       "      <td>1.316636e-08</td>\n",
       "    </tr>\n",
       "    <tr>\n",
       "      <th>0%</th>\n",
       "      <td>0.000000</td>\n",
       "      <td>0.000000</td>\n",
       "      <td>1.316636e-08</td>\n",
       "    </tr>\n",
       "    <tr>\n",
       "      <th>20%</th>\n",
       "      <td>0.093887</td>\n",
       "      <td>0.073823</td>\n",
       "      <td>3.654592e-03</td>\n",
       "    </tr>\n",
       "    <tr>\n",
       "      <th>40%</th>\n",
       "      <td>0.262215</td>\n",
       "      <td>0.212025</td>\n",
       "      <td>8.299971e-02</td>\n",
       "    </tr>\n",
       "    <tr>\n",
       "      <th>50%</th>\n",
       "      <td>0.336006</td>\n",
       "      <td>0.275617</td>\n",
       "      <td>2.244505e-01</td>\n",
       "    </tr>\n",
       "    <tr>\n",
       "      <th>60.0%</th>\n",
       "      <td>0.401651</td>\n",
       "      <td>0.333832</td>\n",
       "      <td>4.181494e-01</td>\n",
       "    </tr>\n",
       "    <tr>\n",
       "      <th>80%</th>\n",
       "      <td>0.540654</td>\n",
       "      <td>0.446826</td>\n",
       "      <td>7.470005e-01</td>\n",
       "    </tr>\n",
       "    <tr>\n",
       "      <th>max</th>\n",
       "      <td>0.981299</td>\n",
       "      <td>0.918574</td>\n",
       "      <td>1.943997e+00</td>\n",
       "    </tr>\n",
       "  </tbody>\n",
       "</table>\n",
       "</div>"
      ],
      "text/plain": [
       "          Probability        BaseProb  DiscountNudge\n",
       "count  1000000.000000  1000000.000000   1.000000e+06\n",
       "mean         0.336536        0.271545   4.093677e-01\n",
       "std          0.230922        0.183369   4.743266e-01\n",
       "min          0.000000        0.000000   1.316636e-08\n",
       "0%           0.000000        0.000000   1.316636e-08\n",
       "20%          0.093887        0.073823   3.654592e-03\n",
       "40%          0.262215        0.212025   8.299971e-02\n",
       "50%          0.336006        0.275617   2.244505e-01\n",
       "60.0%        0.401651        0.333832   4.181494e-01\n",
       "80%          0.540654        0.446826   7.470005e-01\n",
       "max          0.981299        0.918574   1.943997e+00"
      ]
     },
     "execution_count": 11,
     "metadata": {},
     "output_type": "execute_result"
    }
   ],
   "source": [
    "df[col_models].describe(np.arange(0, 1., 0.2))"
   ]
  },
  {
   "cell_type": "code",
   "execution_count": 13,
   "metadata": {
    "ExecuteTime": {
     "end_time": "2018-09-02T10:46:06.072120Z",
     "start_time": "2018-09-02T10:46:05.782103Z"
    },
    "collapsed": false
   },
   "outputs": [
    {
     "data": {
      "image/png": "[encoded data removed]",
      "text/plain": [
       "<matplotlib.figure.Figure at 0x7f1434b44d30>"
      ]
     },
     "metadata": {
      "needs_background": "light"
     },
     "output_type": "display_data"
    }
   ],
   "source": [
    "ax = df.groupby(col_grby)[col_models].mean().plot(legend=True, figsize=(20,6))"
   ]
  },
  {
   "cell_type": "code",
   "execution_count": 14,
   "metadata": {
    "ExecuteTime": {
     "end_time": "2018-09-02T10:46:06.332135Z",
     "start_time": "2018-09-02T10:46:06.073120Z"
    },
    "collapsed": false
   },
   "outputs": [
    {
     "data": {
      "image/png": "[encoded data removed]",
      "text/plain": [
       "<matplotlib.figure.Figure at 0x7f142ed94f60>"
      ]
     },
     "metadata": {
      "needs_background": "light"
     },
     "output_type": "display_data"
    }
   ],
   "source": [
    "ax = df.groupby(col_grby)[col_models].mean().diff().clip(0).plot(legend=True, figsize=(20,6))\n"
   ]
  },
  {
   "cell_type": "code",
   "execution_count": 15,
   "metadata": {
    "ExecuteTime": {
     "end_time": "2018-09-02T10:46:31.309563Z",
     "start_time": "2018-09-02T10:46:06.333135Z"
    },
    "collapsed": true
   },
   "outputs": [],
   "source": [
    "df.to_csv('training_data_randn.csv', index=False)"
   ]
  },
  {
   "cell_type": "code",
   "execution_count": null,
   "metadata": {
    "collapsed": true
   },
   "outputs": [],
   "source": []
  }
 ],
 "metadata": {
  "anaconda-cloud": {},
  "kernelspec": {
   "display_name": "Environment (conda_python3)",
   "language": "python",
   "name": "conda_python3"
  },
  "language_info": {
   "codemirror_mode": {
    "name": "ipython",
    "version": 3
   },
   "file_extension": ".py",
   "mimetype": "text/x-python",
   "name": "python",
   "nbconvert_exporter": "python",
   "pygments_lexer": "ipython3",
   "version": "3.6.4"
  },
  "toc": {
   "nav_menu": {},
   "number_sections": true,
   "sideBar": true,
   "skip_h1_title": false,
   "toc_cell": false,
   "toc_position": {},
   "toc_section_display": true,
   "toc_window_display": false
  }
 },
 "nbformat": 4,
 "nbformat_minor": 2
}
